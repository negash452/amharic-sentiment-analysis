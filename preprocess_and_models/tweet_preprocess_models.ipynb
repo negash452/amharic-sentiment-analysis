{
 "cells": [
  {
   "cell_type": "markdown",
   "metadata": {
    "id": "ng07w-15NMoR"
   },
   "source": [
    "## Importing libraries"
   ]
  },
  {
   "cell_type": "code",
   "execution_count": 1,
   "metadata": {
    "id": "okY3WBQpMf-z"
   },
   "outputs": [
    {
     "ename": "ModuleNotFoundError",
     "evalue": "No module named 'numpy'",
     "output_type": "error",
     "traceback": [
      "\u001b[1;31m---------------------------------------------------------------------------\u001b[0m",
      "\u001b[1;31mModuleNotFoundError\u001b[0m                       Traceback (most recent call last)",
      "\u001b[1;32m<ipython-input-1-4908655d7ec1>\u001b[0m in \u001b[0;36m<module>\u001b[1;34m\u001b[0m\n\u001b[1;32m----> 1\u001b[1;33m \u001b[1;32mimport\u001b[0m \u001b[0mmatplotlib\u001b[0m\u001b[1;33m.\u001b[0m\u001b[0mpyplot\u001b[0m \u001b[1;32mas\u001b[0m \u001b[0mplt\u001b[0m\u001b[1;33m\u001b[0m\u001b[1;33m\u001b[0m\u001b[0m\n\u001b[0m\u001b[0;32m      2\u001b[0m \u001b[1;32mimport\u001b[0m \u001b[0mos\u001b[0m\u001b[1;33m\u001b[0m\u001b[1;33m\u001b[0m\u001b[0m\n\u001b[0;32m      3\u001b[0m \u001b[1;32mimport\u001b[0m \u001b[0mre\u001b[0m\u001b[1;33m\u001b[0m\u001b[1;33m\u001b[0m\u001b[0m\n\u001b[0;32m      4\u001b[0m \u001b[1;32mimport\u001b[0m \u001b[0mshutil\u001b[0m\u001b[1;33m\u001b[0m\u001b[1;33m\u001b[0m\u001b[0m\n\u001b[0;32m      5\u001b[0m \u001b[1;32mimport\u001b[0m \u001b[0mstring\u001b[0m\u001b[1;33m\u001b[0m\u001b[1;33m\u001b[0m\u001b[0m\n",
      "\u001b[1;32m~\\Anaconda3\\envs\\aisite\\lib\\site-packages\\matplotlib\\__init__.py\u001b[0m in \u001b[0;36m<module>\u001b[1;34m\u001b[0m\n\u001b[0;32m    105\u001b[0m \u001b[1;31m# cbook must import matplotlib only within function\u001b[0m\u001b[1;33m\u001b[0m\u001b[1;33m\u001b[0m\u001b[1;33m\u001b[0m\u001b[0m\n\u001b[0;32m    106\u001b[0m \u001b[1;31m# definitions, so it is safe to import from it here.\u001b[0m\u001b[1;33m\u001b[0m\u001b[1;33m\u001b[0m\u001b[1;33m\u001b[0m\u001b[0m\n\u001b[1;32m--> 107\u001b[1;33m \u001b[1;32mfrom\u001b[0m \u001b[1;33m.\u001b[0m \u001b[1;32mimport\u001b[0m \u001b[0mcbook\u001b[0m\u001b[1;33m,\u001b[0m \u001b[0mrcsetup\u001b[0m\u001b[1;33m\u001b[0m\u001b[1;33m\u001b[0m\u001b[0m\n\u001b[0m\u001b[0;32m    108\u001b[0m \u001b[1;32mfrom\u001b[0m \u001b[0mmatplotlib\u001b[0m\u001b[1;33m.\u001b[0m\u001b[0mcbook\u001b[0m \u001b[1;32mimport\u001b[0m \u001b[0mMatplotlibDeprecationWarning\u001b[0m\u001b[1;33m,\u001b[0m \u001b[0msanitize_sequence\u001b[0m\u001b[1;33m\u001b[0m\u001b[1;33m\u001b[0m\u001b[0m\n\u001b[0;32m    109\u001b[0m \u001b[1;32mfrom\u001b[0m \u001b[0mmatplotlib\u001b[0m\u001b[1;33m.\u001b[0m\u001b[0mcbook\u001b[0m \u001b[1;32mimport\u001b[0m \u001b[0mmplDeprecation\u001b[0m  \u001b[1;31m# deprecated\u001b[0m\u001b[1;33m\u001b[0m\u001b[1;33m\u001b[0m\u001b[0m\n",
      "\u001b[1;32m~\\Anaconda3\\envs\\aisite\\lib\\site-packages\\matplotlib\\cbook\\__init__.py\u001b[0m in \u001b[0;36m<module>\u001b[1;34m\u001b[0m\n\u001b[0;32m     26\u001b[0m \u001b[1;32mimport\u001b[0m \u001b[0mweakref\u001b[0m\u001b[1;33m\u001b[0m\u001b[1;33m\u001b[0m\u001b[0m\n\u001b[0;32m     27\u001b[0m \u001b[1;33m\u001b[0m\u001b[0m\n\u001b[1;32m---> 28\u001b[1;33m \u001b[1;32mimport\u001b[0m \u001b[0mnumpy\u001b[0m \u001b[1;32mas\u001b[0m \u001b[0mnp\u001b[0m\u001b[1;33m\u001b[0m\u001b[1;33m\u001b[0m\u001b[0m\n\u001b[0m\u001b[0;32m     29\u001b[0m \u001b[1;33m\u001b[0m\u001b[0m\n\u001b[0;32m     30\u001b[0m \u001b[1;32mimport\u001b[0m \u001b[0mmatplotlib\u001b[0m\u001b[1;33m\u001b[0m\u001b[1;33m\u001b[0m\u001b[0m\n",
      "\u001b[1;31mModuleNotFoundError\u001b[0m: No module named 'numpy'"
     ]
    }
   ],
   "source": [
    "import matplotlib.pyplot as plt\n",
    "import os\n",
    "import re\n",
    "import shutil\n",
    "import string\n",
    "import tensorflow as tf\n",
    "import numpy as np\n",
    "import pandas as pd\n",
    "from tensorflow.keras import losses\n",
    "from tensorflow.keras import preprocessing\n",
    "from tensorflow.keras.layers.experimental.preprocessing import TextVectorization\n",
    "pd.options.mode.chained_assignment = None\n",
    "import re"
   ]
  },
  {
   "cell_type": "markdown",
   "metadata": {
    "id": "rBH_AANvNSIN"
   },
   "source": [
    "## Downloading the dataset"
   ]
  },
  {
   "cell_type": "code",
   "execution_count": 3,
   "metadata": {
    "colab": {
     "base_uri": "https://localhost:8080/",
     "height": 407
    },
    "id": "uCLF6OKPOBr6",
    "outputId": "765e57b2-f4d8-4c8b-b493-5c2e95713bbe"
   },
   "outputs": [
    {
     "data": {
      "text/html": [
       "<div>\n",
       "<style scoped>\n",
       "    .dataframe tbody tr th:only-of-type {\n",
       "        vertical-align: middle;\n",
       "    }\n",
       "\n",
       "    .dataframe tbody tr th {\n",
       "        vertical-align: top;\n",
       "    }\n",
       "\n",
       "    .dataframe thead th {\n",
       "        text-align: right;\n",
       "    }\n",
       "</style>\n",
       "<table border=\"1\" class=\"dataframe\">\n",
       "  <thead>\n",
       "    <tr style=\"text-align: right;\">\n",
       "      <th></th>\n",
       "      <th>Unnamed: 0</th>\n",
       "      <th>tweet_id</th>\n",
       "      <th>sentiment</th>\n",
       "      <th>tweet</th>\n",
       "    </tr>\n",
       "  </thead>\n",
       "  <tbody>\n",
       "    <tr>\n",
       "      <th>0</th>\n",
       "      <td>0</td>\n",
       "      <td>1213842050455654402</td>\n",
       "      <td>neutral</td>\n",
       "      <td>@Haymana_ እንደዛ ካልሆነ በስተቀር ሰውዬው ማንንም አይቦልኩም</td>\n",
       "    </tr>\n",
       "    <tr>\n",
       "      <th>1</th>\n",
       "      <td>1</td>\n",
       "      <td>1215480766295171072</td>\n",
       "      <td>neutral</td>\n",
       "      <td>NaN</td>\n",
       "    </tr>\n",
       "    <tr>\n",
       "      <th>2</th>\n",
       "      <td>2</td>\n",
       "      <td>1222950264812064768</td>\n",
       "      <td>positive</td>\n",
       "      <td>ለመገናኛ ብዙሃን አባላት!\\n\\nበደምቢዶሎ የታገቱ ኢትዮጵያውያን ድምፅ ለ...</td>\n",
       "    </tr>\n",
       "    <tr>\n",
       "      <th>3</th>\n",
       "      <td>3</td>\n",
       "      <td>1213967203076395009</td>\n",
       "      <td>negative</td>\n",
       "      <td>NaN</td>\n",
       "    </tr>\n",
       "    <tr>\n",
       "      <th>4</th>\n",
       "      <td>4</td>\n",
       "      <td>1213961696840171521</td>\n",
       "      <td>neutral</td>\n",
       "      <td>NaN</td>\n",
       "    </tr>\n",
       "    <tr>\n",
       "      <th>...</th>\n",
       "      <td>...</td>\n",
       "      <td>...</td>\n",
       "      <td>...</td>\n",
       "      <td>...</td>\n",
       "    </tr>\n",
       "    <tr>\n",
       "      <th>934</th>\n",
       "      <td>934</td>\n",
       "      <td>1214922390469324802</td>\n",
       "      <td>neutral</td>\n",
       "      <td>@degu_zerihun የውስጥ ሰለማችን መጠበቅ፣ የልማታችን ሁሉ ወሳኝ ማ...</td>\n",
       "    </tr>\n",
       "    <tr>\n",
       "      <th>935</th>\n",
       "      <td>935</td>\n",
       "      <td>1214922390469324802</td>\n",
       "      <td>neutral</td>\n",
       "      <td>@degu_zerihun የውስጥ ሰለማችን መጠበቅ፣ የልማታችን ሁሉ ወሳኝ ማ...</td>\n",
       "    </tr>\n",
       "    <tr>\n",
       "      <th>936</th>\n",
       "      <td>936</td>\n",
       "      <td>1223053757883260928</td>\n",
       "      <td>positive</td>\n",
       "      <td>\"አዲሱ መንግስት\"ና ህገ-መንግስታዊነት - ረዥም ገመድ\\n\\nህገ-መንግስታ...</td>\n",
       "    </tr>\n",
       "    <tr>\n",
       "      <th>937</th>\n",
       "      <td>937</td>\n",
       "      <td>1213771045070659584</td>\n",
       "      <td>negative</td>\n",
       "      <td>@TeameYitbarek @Ze_Astegoma @eskinder_nega ትግሬ...</td>\n",
       "    </tr>\n",
       "    <tr>\n",
       "      <th>938</th>\n",
       "      <td>938</td>\n",
       "      <td>1213245927508598786</td>\n",
       "      <td>neutral</td>\n",
       "      <td>@heyab_ @Antesho19 @awushwish እኔም ልክ እንዳንተው ነኝ</td>\n",
       "    </tr>\n",
       "  </tbody>\n",
       "</table>\n",
       "<p>939 rows × 4 columns</p>\n",
       "</div>"
      ],
      "text/plain": [
       "     Unnamed: 0             tweet_id sentiment  \\\n",
       "0             0  1213842050455654402   neutral   \n",
       "1             1  1215480766295171072   neutral   \n",
       "2             2  1222950264812064768  positive   \n",
       "3             3  1213967203076395009  negative   \n",
       "4             4  1213961696840171521   neutral   \n",
       "..          ...                  ...       ...   \n",
       "934         934  1214922390469324802   neutral   \n",
       "935         935  1214922390469324802   neutral   \n",
       "936         936  1223053757883260928  positive   \n",
       "937         937  1213771045070659584  negative   \n",
       "938         938  1213245927508598786   neutral   \n",
       "\n",
       "                                                 tweet  \n",
       "0           @Haymana_ እንደዛ ካልሆነ በስተቀር ሰውዬው ማንንም አይቦልኩም  \n",
       "1                                                  NaN  \n",
       "2    ለመገናኛ ብዙሃን አባላት!\\n\\nበደምቢዶሎ የታገቱ ኢትዮጵያውያን ድምፅ ለ...  \n",
       "3                                                  NaN  \n",
       "4                                                  NaN  \n",
       "..                                                 ...  \n",
       "934  @degu_zerihun የውስጥ ሰለማችን መጠበቅ፣ የልማታችን ሁሉ ወሳኝ ማ...  \n",
       "935  @degu_zerihun የውስጥ ሰለማችን መጠበቅ፣ የልማታችን ሁሉ ወሳኝ ማ...  \n",
       "936  \"አዲሱ መንግስት\"ና ህገ-መንግስታዊነት - ረዥም ገመድ\\n\\nህገ-መንግስታ...  \n",
       "937  @TeameYitbarek @Ze_Astegoma @eskinder_nega ትግሬ...  \n",
       "938     @heyab_ @Antesho19 @awushwish እኔም ልክ እንዳንተው ነኝ  \n",
       "\n",
       "[939 rows x 4 columns]"
      ]
     },
     "execution_count": 3,
     "metadata": {},
     "output_type": "execute_result"
    }
   ],
   "source": [
    "url = \"../data_preprocess/test.csv\"\n",
    "df_test = pd.read_csv(url)\n",
    "df_test"
   ]
  },
  {
   "cell_type": "code",
   "execution_count": 4,
   "metadata": {
    "colab": {
     "base_uri": "https://localhost:8080/",
     "height": 407
    },
    "id": "XVyRw6BJhrkt",
    "outputId": "35029e36-d9ba-4d87-dcbb-adc95b1a87b4"
   },
   "outputs": [
    {
     "data": {
      "text/html": [
       "<div>\n",
       "<style scoped>\n",
       "    .dataframe tbody tr th:only-of-type {\n",
       "        vertical-align: middle;\n",
       "    }\n",
       "\n",
       "    .dataframe tbody tr th {\n",
       "        vertical-align: top;\n",
       "    }\n",
       "\n",
       "    .dataframe thead th {\n",
       "        text-align: right;\n",
       "    }\n",
       "</style>\n",
       "<table border=\"1\" class=\"dataframe\">\n",
       "  <thead>\n",
       "    <tr style=\"text-align: right;\">\n",
       "      <th></th>\n",
       "      <th>Unnamed: 0</th>\n",
       "      <th>tweet_id</th>\n",
       "      <th>sentiment</th>\n",
       "      <th>tweet</th>\n",
       "    </tr>\n",
       "  </thead>\n",
       "  <tbody>\n",
       "    <tr>\n",
       "      <th>0</th>\n",
       "      <td>0</td>\n",
       "      <td>1213084822521950209</td>\n",
       "      <td>neutral</td>\n",
       "      <td>NaN</td>\n",
       "    </tr>\n",
       "    <tr>\n",
       "      <th>1</th>\n",
       "      <td>1</td>\n",
       "      <td>1213011490372038656</td>\n",
       "      <td>neutral</td>\n",
       "      <td>ልዩ የተፈጥሮ ገፅታ \\n *****\\n\\nየምስራቅ አፍሪካ የውሃ ማማ ጮቄ</td>\n",
       "    </tr>\n",
       "    <tr>\n",
       "      <th>2</th>\n",
       "      <td>2</td>\n",
       "      <td>1213763702715043840</td>\n",
       "      <td>mixed</td>\n",
       "      <td>@AbbaSheger ማንም ቢሆን የሀገሩን ጥቅም አሳልፎ አይሰጥም። ያ መላ...</td>\n",
       "    </tr>\n",
       "    <tr>\n",
       "      <th>3</th>\n",
       "      <td>3</td>\n",
       "      <td>1213764224356421633</td>\n",
       "      <td>neutral</td>\n",
       "      <td>ብ/ጄ አሳምነው ጽጌ ከምክትል ጠ/ሚ ደመቀ ጋር በሱዳን ጉብኝት አልበሽር ...</td>\n",
       "    </tr>\n",
       "    <tr>\n",
       "      <th>4</th>\n",
       "      <td>4</td>\n",
       "      <td>1212766574337150976</td>\n",
       "      <td>positive</td>\n",
       "      <td>NaN</td>\n",
       "    </tr>\n",
       "    <tr>\n",
       "      <th>...</th>\n",
       "      <td>...</td>\n",
       "      <td>...</td>\n",
       "      <td>...</td>\n",
       "      <td>...</td>\n",
       "    </tr>\n",
       "    <tr>\n",
       "      <th>7506</th>\n",
       "      <td>7506</td>\n",
       "      <td>1212925000610721792</td>\n",
       "      <td>neutral</td>\n",
       "      <td>ሙስናውና የመልካም አስተዳዳር እጦቱ በእጅጉ እጨመረ ነው።</td>\n",
       "    </tr>\n",
       "    <tr>\n",
       "      <th>7507</th>\n",
       "      <td>7507</td>\n",
       "      <td>1201475433780219904</td>\n",
       "      <td>negative</td>\n",
       "      <td>የብልጽግናን ፓርቲ ፊርማ ከፈረሙት መካከል የኦርቶዶክስ ተዋህዶ አማኞች የ...</td>\n",
       "    </tr>\n",
       "    <tr>\n",
       "      <th>7508</th>\n",
       "      <td>7508</td>\n",
       "      <td>1212741943412822016</td>\n",
       "      <td>positive</td>\n",
       "      <td>1ኛ የጴጥሮስ መልእክት-1 Peter :1\\n 23 ዳግመኛ የተወለዳችሁት ከ...</td>\n",
       "    </tr>\n",
       "    <tr>\n",
       "      <th>7509</th>\n",
       "      <td>7509</td>\n",
       "      <td>1213033524766351360</td>\n",
       "      <td>negative</td>\n",
       "      <td>@ChobinaAtlas @hymelee @AbbaSheger ማነን: ስንት በር...</td>\n",
       "    </tr>\n",
       "    <tr>\n",
       "      <th>7510</th>\n",
       "      <td>7510</td>\n",
       "      <td>1215926705887547392</td>\n",
       "      <td>mixed</td>\n",
       "      <td>ታናሽ ወንድሜ Abrham የመጀመርያውን አዲስ  ነጠላ ዜማ ይዞ እየመጣ ነ...</td>\n",
       "    </tr>\n",
       "  </tbody>\n",
       "</table>\n",
       "<p>7511 rows × 4 columns</p>\n",
       "</div>"
      ],
      "text/plain": [
       "      Unnamed: 0             tweet_id sentiment  \\\n",
       "0              0  1213084822521950209   neutral   \n",
       "1              1  1213011490372038656   neutral   \n",
       "2              2  1213763702715043840     mixed   \n",
       "3              3  1213764224356421633   neutral   \n",
       "4              4  1212766574337150976  positive   \n",
       "...          ...                  ...       ...   \n",
       "7506        7506  1212925000610721792   neutral   \n",
       "7507        7507  1201475433780219904  negative   \n",
       "7508        7508  1212741943412822016  positive   \n",
       "7509        7509  1213033524766351360  negative   \n",
       "7510        7510  1215926705887547392     mixed   \n",
       "\n",
       "                                                  tweet  \n",
       "0                                                   NaN  \n",
       "1         ልዩ የተፈጥሮ ገፅታ \\n *****\\n\\nየምስራቅ አፍሪካ የውሃ ማማ ጮቄ  \n",
       "2     @AbbaSheger ማንም ቢሆን የሀገሩን ጥቅም አሳልፎ አይሰጥም። ያ መላ...  \n",
       "3     ብ/ጄ አሳምነው ጽጌ ከምክትል ጠ/ሚ ደመቀ ጋር በሱዳን ጉብኝት አልበሽር ...  \n",
       "4                                                   NaN  \n",
       "...                                                 ...  \n",
       "7506               ሙስናውና የመልካም አስተዳዳር እጦቱ በእጅጉ እጨመረ ነው።  \n",
       "7507  የብልጽግናን ፓርቲ ፊርማ ከፈረሙት መካከል የኦርቶዶክስ ተዋህዶ አማኞች የ...  \n",
       "7508  1ኛ የጴጥሮስ መልእክት-1 Peter :1\\n 23 ዳግመኛ የተወለዳችሁት ከ...  \n",
       "7509  @ChobinaAtlas @hymelee @AbbaSheger ማነን: ስንት በር...  \n",
       "7510  ታናሽ ወንድሜ Abrham የመጀመርያውን አዲስ  ነጠላ ዜማ ይዞ እየመጣ ነ...  \n",
       "\n",
       "[7511 rows x 4 columns]"
      ]
     },
     "execution_count": 4,
     "metadata": {},
     "output_type": "execute_result"
    }
   ],
   "source": [
    "url = \"../data_preprocess/train.csv\"\n",
    "df_train = pd.read_csv(url)\n",
    "df_train"
   ]
  },
  {
   "cell_type": "code",
   "execution_count": 5,
   "metadata": {
    "colab": {
     "base_uri": "https://localhost:8080/",
     "height": 407
    },
    "id": "GY_dOZdXh3ci",
    "outputId": "b6a39930-b9af-41f3-ae90-d433c4fe3f34"
   },
   "outputs": [
    {
     "data": {
      "text/html": [
       "<div>\n",
       "<style scoped>\n",
       "    .dataframe tbody tr th:only-of-type {\n",
       "        vertical-align: middle;\n",
       "    }\n",
       "\n",
       "    .dataframe tbody tr th {\n",
       "        vertical-align: top;\n",
       "    }\n",
       "\n",
       "    .dataframe thead th {\n",
       "        text-align: right;\n",
       "    }\n",
       "</style>\n",
       "<table border=\"1\" class=\"dataframe\">\n",
       "  <thead>\n",
       "    <tr style=\"text-align: right;\">\n",
       "      <th></th>\n",
       "      <th>Unnamed: 0</th>\n",
       "      <th>tweet_id</th>\n",
       "      <th>sentiment</th>\n",
       "      <th>tweet</th>\n",
       "    </tr>\n",
       "  </thead>\n",
       "  <tbody>\n",
       "    <tr>\n",
       "      <th>0</th>\n",
       "      <td>0</td>\n",
       "      <td>1214005466675777536</td>\n",
       "      <td>neutral</td>\n",
       "      <td>RT @AyeleGelan: ድሮ ተሸምድደው በቀላሉ ይንበለበሉ የነበሩ ኢህኣ...</td>\n",
       "    </tr>\n",
       "    <tr>\n",
       "      <th>1</th>\n",
       "      <td>1</td>\n",
       "      <td>1213261378397409280</td>\n",
       "      <td>mixed</td>\n",
       "      <td>ኦሮሞ ልምድ የለውም ካልን ሌላውም ያው ይሆናል ዋናውነገር ፍትህን ማውረድ...</td>\n",
       "    </tr>\n",
       "    <tr>\n",
       "      <th>2</th>\n",
       "      <td>2</td>\n",
       "      <td>1213846984349626369</td>\n",
       "      <td>neutral</td>\n",
       "      <td>እስክንድር ነጋ ባለአደራው ምክርቤት ለአንድ ብሄር እና ለአንድ ሃይማኖት ...</td>\n",
       "    </tr>\n",
       "    <tr>\n",
       "      <th>3</th>\n",
       "      <td>3</td>\n",
       "      <td>1216365312561635333</td>\n",
       "      <td>positive</td>\n",
       "      <td>@Gfasil በረከት በላይነህ \\nየእያዪ ፈንገስ ትያትር ደራሲ\\nእንዲሁም...</td>\n",
       "    </tr>\n",
       "    <tr>\n",
       "      <th>4</th>\n",
       "      <td>4</td>\n",
       "      <td>1213234381768265728</td>\n",
       "      <td>neutral</td>\n",
       "      <td>NaN</td>\n",
       "    </tr>\n",
       "    <tr>\n",
       "      <th>...</th>\n",
       "      <td>...</td>\n",
       "      <td>...</td>\n",
       "      <td>...</td>\n",
       "      <td>...</td>\n",
       "    </tr>\n",
       "    <tr>\n",
       "      <th>934</th>\n",
       "      <td>934</td>\n",
       "      <td>1214096434989031425</td>\n",
       "      <td>positive</td>\n",
       "      <td>@HaileFida ምሳሌ 11 (Proverbs)\\n2፤ ትዕቢት ከመጣች ውርደ...</td>\n",
       "    </tr>\n",
       "    <tr>\n",
       "      <th>935</th>\n",
       "      <td>935</td>\n",
       "      <td>1213850051866324998</td>\n",
       "      <td>negative</td>\n",
       "      <td>@isuchisu በተንኮል በጠባብ ዘረኝነት  የተመረዘውን ልብህን አፅዳ ከ...</td>\n",
       "    </tr>\n",
       "    <tr>\n",
       "      <th>936</th>\n",
       "      <td>936</td>\n",
       "      <td>1214678524746981383</td>\n",
       "      <td>positive</td>\n",
       "      <td>@noctivwgus ሀሳቡ እርስዎን ለማስጨነቅ አልነበረም, በእውነቱ። እኔ...</td>\n",
       "    </tr>\n",
       "    <tr>\n",
       "      <th>937</th>\n",
       "      <td>937</td>\n",
       "      <td>1213120677743599618</td>\n",
       "      <td>positive</td>\n",
       "      <td>@_wurye @_wurye ❤ I'm inlove with this song 🎵\\...</td>\n",
       "    </tr>\n",
       "    <tr>\n",
       "      <th>938</th>\n",
       "      <td>938</td>\n",
       "      <td>1214758637433962496</td>\n",
       "      <td>neutral</td>\n",
       "      <td>@HussenMuhye ህዝብ በእብደት ያቃጠለው እንደተወገዘ ቢሆንም ወዲያው...</td>\n",
       "    </tr>\n",
       "  </tbody>\n",
       "</table>\n",
       "<p>939 rows × 4 columns</p>\n",
       "</div>"
      ],
      "text/plain": [
       "     Unnamed: 0             tweet_id sentiment  \\\n",
       "0             0  1214005466675777536   neutral   \n",
       "1             1  1213261378397409280     mixed   \n",
       "2             2  1213846984349626369   neutral   \n",
       "3             3  1216365312561635333  positive   \n",
       "4             4  1213234381768265728   neutral   \n",
       "..          ...                  ...       ...   \n",
       "934         934  1214096434989031425  positive   \n",
       "935         935  1213850051866324998  negative   \n",
       "936         936  1214678524746981383  positive   \n",
       "937         937  1213120677743599618  positive   \n",
       "938         938  1214758637433962496   neutral   \n",
       "\n",
       "                                                 tweet  \n",
       "0    RT @AyeleGelan: ድሮ ተሸምድደው በቀላሉ ይንበለበሉ የነበሩ ኢህኣ...  \n",
       "1    ኦሮሞ ልምድ የለውም ካልን ሌላውም ያው ይሆናል ዋናውነገር ፍትህን ማውረድ...  \n",
       "2    እስክንድር ነጋ ባለአደራው ምክርቤት ለአንድ ብሄር እና ለአንድ ሃይማኖት ...  \n",
       "3    @Gfasil በረከት በላይነህ \\nየእያዪ ፈንገስ ትያትር ደራሲ\\nእንዲሁም...  \n",
       "4                                                  NaN  \n",
       "..                                                 ...  \n",
       "934  @HaileFida ምሳሌ 11 (Proverbs)\\n2፤ ትዕቢት ከመጣች ውርደ...  \n",
       "935  @isuchisu በተንኮል በጠባብ ዘረኝነት  የተመረዘውን ልብህን አፅዳ ከ...  \n",
       "936  @noctivwgus ሀሳቡ እርስዎን ለማስጨነቅ አልነበረም, በእውነቱ። እኔ...  \n",
       "937  @_wurye @_wurye ❤ I'm inlove with this song 🎵\\...  \n",
       "938  @HussenMuhye ህዝብ በእብደት ያቃጠለው እንደተወገዘ ቢሆንም ወዲያው...  \n",
       "\n",
       "[939 rows x 4 columns]"
      ]
     },
     "execution_count": 5,
     "metadata": {},
     "output_type": "execute_result"
    }
   ],
   "source": [
    "url = \"../data_preprocess/dev.csv\"\n",
    "df_valid = pd.read_csv(url)\n",
    "df_valid"
   ]
  },
  {
   "cell_type": "markdown",
   "metadata": {
    "id": "6ed-721XgRwO"
   },
   "source": [
    "## Data Pre-Processing and Cleaning"
   ]
  },
  {
   "cell_type": "code",
   "execution_count": 6,
   "metadata": {
    "id": "jUOMlJ7f7ZSa"
   },
   "outputs": [],
   "source": [
    "# drop \"mixed\" sentiment from df train and df_test\n",
    "df_train = df_train[df_train[\"sentiment\"].str.contains(\"mixed\")==False]\n",
    "df_test = df_test[df_test[\"sentiment\"].str.contains(\"mixed\")==False]"
   ]
  },
  {
   "cell_type": "code",
   "execution_count": 7,
   "metadata": {
    "id": "y3D94X3WgV6o"
   },
   "outputs": [],
   "source": [
    "def clean_df(df):\n",
    "  \"\"\"removes null values and resets index\"\"\"\n",
    "  # remove null values from dataset\n",
    "  df = df.dropna()\n",
    "  #drop repeated rows (drop rows with similar tweet id)\n",
    "  df = df.drop_duplicates(subset='tweet_id', keep=\"first\")\n",
    "  df = df.reset_index(drop=True)\n",
    "  return df\n",
    "\n",
    "df_test = clean_df(df_test)\n",
    "df_train = clean_df(df_train)\n",
    "df_valid = clean_df(df_valid)"
   ]
  },
  {
   "cell_type": "code",
   "execution_count": 8,
   "metadata": {
    "id": "N--pwbKDcuH2"
   },
   "outputs": [],
   "source": [
    "def clean_text(row, options):\n",
    "    \"\"\"Removes url, mentions, emoji and uppercase from tweets\"\"\"\n",
    "    if options['lowercase']:\n",
    "        row = row.lower()\n",
    "\n",
    "    if options['remove_url']:\n",
    "        row = re.sub(r\"(?:\\@|https?\\://)\\S+\", \"\", row)\n",
    "\n",
    "    if options['remove_mentions']:\n",
    "        row = re.sub(\"@[A-Za-z0-9_]+\",\"\", row)\n",
    "\n",
    "    if options['demojify']:\n",
    "      emoj = re.compile(\"[\"\n",
    "        u\"\\U0001F600-\\U0001F64F\"  # emoticons\n",
    "        u\"\\U0001F300-\\U0001F5FF\"  # symbols & pictographs\n",
    "        u\"\\U0001F680-\\U0001F6FF\"  # transport & map symbols\n",
    "        u\"\\U0001F1E0-\\U0001F1FF\"  # flags (iOS)\n",
    "        u\"\\U00002500-\\U00002BEF\"  # chinese char\n",
    "        u\"\\U00002702-\\U000027B0\"\n",
    "        u\"\\U00002702-\\U000027B0\"\n",
    "        u\"\\U000024C2-\\U0001F251\"\n",
    "        u\"\\U0001f926-\\U0001f937\"\n",
    "        u\"\\U00010000-\\U0010ffff\"\n",
    "        u\"\\u2640-\\u2642\" \n",
    "        u\"\\u2600-\\u2B55\"\n",
    "        u\"\\u200d\"\n",
    "        u\"\\u23cf\"\n",
    "        u\"\\u23e9\"\n",
    "        u\"\\u231a\"\n",
    "        u\"\\ufe0f\"  # dingbats\n",
    "        u\"\\u3030\"\n",
    "                      \"]+\", re.UNICODE)\n",
    "      row = re.sub(emoj, '', row)\n",
    "\n",
    "    return row\n",
    "\n",
    "clean_config = {\n",
    "    'remove_url': True,\n",
    "    'remove_mentions': True,\n",
    "    'lowercase': True,\n",
    "    'demojify': True\n",
    "    }\n",
    "\n",
    "df_test['tweet'] = df_test['tweet'].apply(clean_text, args=(clean_config,))\n",
    "df_train['tweet'] = df_train['tweet'].apply(clean_text, args=(clean_config,))\n",
    "df_valid['tweet'] = df_valid['tweet'].apply(clean_text, args=(clean_config,))"
   ]
  },
  {
   "cell_type": "code",
   "execution_count": 9,
   "metadata": {
    "colab": {
     "base_uri": "https://localhost:8080/"
    },
    "id": "PJhMikG4wdOe",
    "outputId": "9ac427c8-53d1-4029-fdb6-5fa6c514176f"
   },
   "outputs": [
    {
     "data": {
      "text/plain": [
       "0           ልዩ የተፈጥሮ ገፅታ \\n *****\\n\\nየምስራቅ አፍሪካ የውሃ ማማ ጮቄ\n",
       "1       ብ/ጄ አሳምነው ጽጌ ከምክትል ጠ/ሚ ደመቀ ጋር በሱዳን ጉብኝት አልበሽር ...\n",
       "2        the only part i like......\"ትልልቅ የነዳጅ ፍጆታ ያላቸው...\n",
       "3           እሺ ወንድሜ እተከላለሁ ማኛ እኮ ናት ወዳታለሁ በጣም ደሞ  ቅና አሉህ \n",
       "4        ይቺን አውቆ ነው ዶ/ር አብይ ክርስቲያን የሆነዋ.......ኧረ ጀንፈሉ ...\n",
       "                              ...                        \n",
       "5759      እኔም እንዳዛው ነገር ነኝ ግን የኢትዮጵያ ብልጽግና ፓርቲ መሆን ነበረ...\n",
       "5760                 ሙስናውና የመልካም አስተዳዳር እጦቱ በእጅጉ እጨመረ ነው።\n",
       "5761    የብልጽግናን ፓርቲ ፊርማ ከፈረሙት መካከል የኦርቶዶክስ ተዋህዶ አማኞች የ...\n",
       "5762    1ኛ የጴጥሮስ መልእክት-1 peter :1\\n 23 ዳግመኛ የተወለዳችሁት ከ...\n",
       "5763       ማነን: ስንት በርሀብ እየሞተ ባለባት ሀገር ስለ ጦርነት የምናወራው:...\n",
       "Name: tweet, Length: 5764, dtype: object"
      ]
     },
     "execution_count": 9,
     "metadata": {},
     "output_type": "execute_result"
    }
   ],
   "source": [
    "df_train['tweet']"
   ]
  },
  {
   "cell_type": "code",
   "execution_count": null,
   "metadata": {
    "colab": {
     "base_uri": "https://localhost:8080/",
     "height": 407
    },
    "id": "KtgVl4EdihPn",
    "outputId": "a1de5b0e-7e7c-42b4-b42d-3ef5cccad586"
   },
   "outputs": [
    {
     "data": {
      "text/html": [
       "<div>\n",
       "<style scoped>\n",
       "    .dataframe tbody tr th:only-of-type {\n",
       "        vertical-align: middle;\n",
       "    }\n",
       "\n",
       "    .dataframe tbody tr th {\n",
       "        vertical-align: top;\n",
       "    }\n",
       "\n",
       "    .dataframe thead th {\n",
       "        text-align: right;\n",
       "    }\n",
       "</style>\n",
       "<table border=\"1\" class=\"dataframe\">\n",
       "  <thead>\n",
       "    <tr style=\"text-align: right;\">\n",
       "      <th></th>\n",
       "      <th>Unnamed: 0</th>\n",
       "      <th>tweet_id</th>\n",
       "      <th>sentiment</th>\n",
       "      <th>tweet</th>\n",
       "    </tr>\n",
       "  </thead>\n",
       "  <tbody>\n",
       "    <tr>\n",
       "      <th>0</th>\n",
       "      <td>0</td>\n",
       "      <td>1214005466675777536</td>\n",
       "      <td>neutral</td>\n",
       "      <td>rt  ድሮ ተሸምድደው በቀላሉ ይንበለበሉ የነበሩ ኢህኣዴግ ልብ ወለድ ድር...</td>\n",
       "    </tr>\n",
       "    <tr>\n",
       "      <th>1</th>\n",
       "      <td>1</td>\n",
       "      <td>1213261378397409280</td>\n",
       "      <td>mixed</td>\n",
       "      <td>ኦሮሞ ልምድ የለውም ካልን ሌላውም ያው ይሆናል ዋናውነገር ፍትህን ማውረድ...</td>\n",
       "    </tr>\n",
       "    <tr>\n",
       "      <th>2</th>\n",
       "      <td>2</td>\n",
       "      <td>1213846984349626369</td>\n",
       "      <td>neutral</td>\n",
       "      <td>እስክንድር ነጋ ባለአደራው ምክርቤት ለአንድ ብሄር እና ለአንድ ሃይማኖት ...</td>\n",
       "    </tr>\n",
       "    <tr>\n",
       "      <th>3</th>\n",
       "      <td>3</td>\n",
       "      <td>1216365312561635333</td>\n",
       "      <td>positive</td>\n",
       "      <td>በረከት በላይነህ \\nየእያዪ ፈንገስ ትያትር ደራሲ\\nእንዲሁም ገራሚ ገጣ...</td>\n",
       "    </tr>\n",
       "    <tr>\n",
       "      <th>4</th>\n",
       "      <td>5</td>\n",
       "      <td>1213881132057595907</td>\n",
       "      <td>negative</td>\n",
       "      <td>የአብይ ተላላኪና ጉዳይ አስፈፃሚ እንዳይሆን እንጂ ሌላዉስ ችግር የለዉም</td>\n",
       "    </tr>\n",
       "    <tr>\n",
       "      <th>...</th>\n",
       "      <td>...</td>\n",
       "      <td>...</td>\n",
       "      <td>...</td>\n",
       "      <td>...</td>\n",
       "    </tr>\n",
       "    <tr>\n",
       "      <th>797</th>\n",
       "      <td>934</td>\n",
       "      <td>1214096434989031425</td>\n",
       "      <td>positive</td>\n",
       "      <td>ምሳሌ 11 (proverbs)\\n2፤ ትዕቢት ከመጣች ውርደት ትመጣለች፤ በ...</td>\n",
       "    </tr>\n",
       "    <tr>\n",
       "      <th>798</th>\n",
       "      <td>935</td>\n",
       "      <td>1213850051866324998</td>\n",
       "      <td>negative</td>\n",
       "      <td>በተንኮል በጠባብ ዘረኝነት  የተመረዘውን ልብህን አፅዳ ከዚያ ለአላህ ስ...</td>\n",
       "    </tr>\n",
       "    <tr>\n",
       "      <th>799</th>\n",
       "      <td>936</td>\n",
       "      <td>1214678524746981383</td>\n",
       "      <td>positive</td>\n",
       "      <td>ሀሳቡ እርስዎን ለማስጨነቅ አልነበረም, በእውነቱ። እኔን እንደማታጠቃኝ ...</td>\n",
       "    </tr>\n",
       "    <tr>\n",
       "      <th>800</th>\n",
       "      <td>937</td>\n",
       "      <td>1213120677743599618</td>\n",
       "      <td>positive</td>\n",
       "      <td>i'm inlove with this song \\nያንተ ፊት ተከብሎኛል እ...</td>\n",
       "    </tr>\n",
       "    <tr>\n",
       "      <th>801</th>\n",
       "      <td>938</td>\n",
       "      <td>1214758637433962496</td>\n",
       "      <td>neutral</td>\n",
       "      <td>ህዝብ በእብደት ያቃጠለው እንደተወገዘ ቢሆንም ወዲያው ምላሽ አግኝቷል።የ...</td>\n",
       "    </tr>\n",
       "  </tbody>\n",
       "</table>\n",
       "<p>802 rows × 4 columns</p>\n",
       "</div>"
      ],
      "text/plain": [
       "     Unnamed: 0  ...                                              tweet\n",
       "0             0  ...  rt  ድሮ ተሸምድደው በቀላሉ ይንበለበሉ የነበሩ ኢህኣዴግ ልብ ወለድ ድር...\n",
       "1             1  ...  ኦሮሞ ልምድ የለውም ካልን ሌላውም ያው ይሆናል ዋናውነገር ፍትህን ማውረድ...\n",
       "2             2  ...  እስክንድር ነጋ ባለአደራው ምክርቤት ለአንድ ብሄር እና ለአንድ ሃይማኖት ...\n",
       "3             3  ...   በረከት በላይነህ \\nየእያዪ ፈንገስ ትያትር ደራሲ\\nእንዲሁም ገራሚ ገጣ...\n",
       "4             5  ...      የአብይ ተላላኪና ጉዳይ አስፈፃሚ እንዳይሆን እንጂ ሌላዉስ ችግር የለዉም\n",
       "..          ...  ...                                                ...\n",
       "797         934  ...   ምሳሌ 11 (proverbs)\\n2፤ ትዕቢት ከመጣች ውርደት ትመጣለች፤ በ...\n",
       "798         935  ...   በተንኮል በጠባብ ዘረኝነት  የተመረዘውን ልብህን አፅዳ ከዚያ ለአላህ ስ...\n",
       "799         936  ...   ሀሳቡ እርስዎን ለማስጨነቅ አልነበረም, በእውነቱ። እኔን እንደማታጠቃኝ ...\n",
       "800         937  ...     i'm inlove with this song \\nያንተ ፊት ተከብሎኛል እ...\n",
       "801         938  ...   ህዝብ በእብደት ያቃጠለው እንደተወገዘ ቢሆንም ወዲያው ምላሽ አግኝቷል።የ...\n",
       "\n",
       "[802 rows x 4 columns]"
      ]
     },
     "execution_count": 10,
     "metadata": {
      "tags": []
     },
     "output_type": "execute_result"
    }
   ],
   "source": [
    "df_valid"
   ]
  },
  {
   "cell_type": "markdown",
   "metadata": {
    "id": "sh_LoRzUiplh"
   },
   "source": [
    "## Character level normalization"
   ]
  },
  {
   "cell_type": "code",
   "execution_count": 28,
   "metadata": {
    "id": "g0JwINMJJBU2"
   },
   "outputs": [],
   "source": [
    "#character level normalization\n",
    "\n",
    "import re\n",
    "#method to normalize character level missmatch such as ጸሀይ and ፀሐይ\n",
    "def normalize_char_level_missmatch(input_token):\n",
    "    rep1=re.sub('[ሃኅኃሐሓኻ]','ሀ',input_token)\n",
    "    rep2=re.sub('[ሑኁዅ]','ሁ',rep1)\n",
    "    rep3=re.sub('[ኂሒኺ]','ሂ',rep2)\n",
    "    rep4=re.sub('[ኌሔዄ]','ሄ',rep3)\n",
    "    rep5=re.sub('[ሕኅ]','ህ',rep4)\n",
    "    rep6=re.sub('[ኆሖኾ]','ሆ',rep5)\n",
    "    rep7=re.sub('[ሠ]','ሰ',rep6)\n",
    "    rep8=re.sub('[ሡ]','ሱ',rep7)\n",
    "    rep9=re.sub('[ሢ]','ሲ',rep8)\n",
    "    rep10=re.sub('[ሣ]','ሳ',rep9)\n",
    "    rep11=re.sub('[ሤ]','ሴ',rep10)\n",
    "    rep12=re.sub('[ሥ]','ስ',rep11)\n",
    "    rep13=re.sub('[ሦ]','ሶ',rep12)\n",
    "    rep14=re.sub('[ዓኣዐ]','አ',rep13)\n",
    "    rep15=re.sub('[ዑ]','ኡ',rep14)\n",
    "    rep16=re.sub('[ዒ]','ኢ',rep15)\n",
    "    rep17=re.sub('[ዔ]','ኤ',rep16)\n",
    "    rep18=re.sub('[ዕ]','እ',rep17)\n",
    "    rep19=re.sub('[ዖ]','ኦ',rep18)\n",
    "    rep20=re.sub('[ጸ]','ፀ',rep19)\n",
    "    rep21=re.sub('[ጹ]','ፁ',rep20)\n",
    "    rep22=re.sub('[ጺ]','ፂ',rep21)\n",
    "    rep23=re.sub('[ጻ]','ፃ',rep22)\n",
    "    rep24=re.sub('[ጼ]','ፄ',rep23)\n",
    "    rep25=re.sub('[ጽ]','ፅ',rep24)\n",
    "    rep26=re.sub('[ጾ]','ፆ',rep25)\n",
    "    #Normalizing words with Labialized Amharic characters such as በልቱዋል or  በልቱአል to  በልቷል  \n",
    "    rep27=re.sub('(ሉ[ዋአ])','ሏ',rep26)\n",
    "    rep28=re.sub('(ሙ[ዋአ])','ሟ',rep27)\n",
    "    rep29=re.sub('(ቱ[ዋአ])','ቷ',rep28)\n",
    "    rep30=re.sub('(ሩ[ዋአ])','ሯ',rep29)\n",
    "    rep31=re.sub('(ሱ[ዋአ])','ሷ',rep30)\n",
    "    rep32=re.sub('(ሹ[ዋአ])','ሿ',rep31)\n",
    "    rep33=re.sub('(ቁ[ዋአ])','ቋ',rep32)\n",
    "    rep34=re.sub('(ቡ[ዋአ])','ቧ',rep33)\n",
    "    rep35=re.sub('(ቹ[ዋአ])','ቿ',rep34)\n",
    "    rep36=re.sub('(ሁ[ዋአ])','ኋ',rep35)\n",
    "    rep37=re.sub('(ኑ[ዋአ])','ኗ',rep36)\n",
    "    rep38=re.sub('(ኙ[ዋአ])','ኟ',rep37)\n",
    "    rep39=re.sub('(ኩ[ዋአ])','ኳ',rep38)\n",
    "    rep40=re.sub('(ዙ[ዋአ])','ዟ',rep39)\n",
    "    rep41=re.sub('(ጉ[ዋአ])','ጓ',rep40)\n",
    "    rep42=re.sub('(ደ[ዋአ])','ዷ',rep41)\n",
    "    rep43=re.sub('(ጡ[ዋአ])','ጧ',rep42)\n",
    "    rep44=re.sub('(ጩ[ዋአ])','ጯ',rep43)\n",
    "    rep45=re.sub('(ጹ[ዋአ])','ጿ',rep44)\n",
    "    rep46=re.sub('(ፉ[ዋአ])','ፏ',rep45)\n",
    "    rep47=re.sub('[ቊ]','ቁ',rep46) #ቁ can be written as ቊ\n",
    "    rep48=re.sub('[ኵ]','ኩ',rep47) #ኩ can be also written as ኵ  \n",
    "    return rep48"
   ]
  },
  {
   "cell_type": "code",
   "execution_count": 29,
   "metadata": {
    "id": "YRYN6SMbJKAW"
   },
   "outputs": [],
   "source": [
    "df_test['tweet'] = df_test['tweet'].apply(lambda x: normalize_char_level_missmatch(x))\n",
    "df_train['tweet'] = df_train['tweet'].apply(lambda x: normalize_char_level_missmatch(x))\n",
    "df_valid['tweet'] = df_valid['tweet'].apply(lambda x: normalize_char_level_missmatch(x))"
   ]
  },
  {
   "cell_type": "markdown",
   "metadata": {
    "id": "jkqGSN_ijfDM"
   },
   "source": [
    "# Model 1: Using Naive Bayes model and count vectorizer"
   ]
  },
  {
   "cell_type": "code",
   "execution_count": 30,
   "metadata": {
    "id": "04fKaATAjecN"
   },
   "outputs": [],
   "source": [
    "from sklearn.feature_extraction.text import CountVectorizer\n",
    "import sys"
   ]
  },
  {
   "cell_type": "code",
   "execution_count": 31,
   "metadata": {
    "id": "aAvILffsj2X8"
   },
   "outputs": [],
   "source": [
    "# put values of tweet and label in variables\n",
    "X_train, y_train = df_train['tweet'].values, df_train['sentiment'].values\n",
    "X_test, y_test = df_test['tweet'].values, df_test['sentiment'].values"
   ]
  },
  {
   "cell_type": "code",
   "execution_count": 32,
   "metadata": {
    "colab": {
     "base_uri": "https://localhost:8080/"
    },
    "id": "pq-MVpCqkrIC",
    "outputId": "f73eef15-86d4-4719-d9c8-88af0f7050ec"
   },
   "outputs": [
    {
     "data": {
      "text/plain": [
       "array(['neutral', 'negative', 'positive'], dtype=object)"
      ]
     },
     "execution_count": 32,
     "metadata": {},
     "output_type": "execute_result"
    }
   ],
   "source": [
    "df_train.sentiment.unique()"
   ]
  },
  {
   "cell_type": "code",
   "execution_count": 33,
   "metadata": {
    "colab": {
     "base_uri": "https://localhost:8080/"
    },
    "id": "x4dlxN5njtGJ",
    "outputId": "696271ee-19cd-4d4f-ba14-7c582d41180e"
   },
   "outputs": [
    {
     "name": "stdout",
     "output_type": "stream",
     "text": [
      "[0 0 0 0 0 0 0 0 0 0 0 0 0 0 0 0 0 0 0 0 0 0 0 0 0 0 0 0 0 0 0 0 0 0 0 0 0\n",
      " 0 0 0 0 0 0 0 0 0 0 0 0 0 0 0 0 0 0 0 0 0 0 0 0 0 0 0 0 0 0 0 0 0 0 0 0 0\n",
      " 0 0 0 0 0 0 0 0 0 0 0 0 0 0 0 0 0 0 0 0 0 0 0 0 0 0 0 0 0 0 0 0 0 0 0 0 0\n",
      " 1 0 0 0 0 0 0 0 0 0 0 0 0 0 0 0 0 0 0 0 0 0 0 0 0 0 0 0 0 0 0 0 0 0 0 0 0\n",
      " 0 0 0 0 0 0 0 0 0 0 0 0 0 0 0 0 0 0 0 0 0 0 0 0 0 0 0 0 0 0 0 0 0 0 0 0 0\n",
      " 0 0 0 0 0 0 0 0 0 0 0 0 0 0 0 0 0 0 0 0 0 0 0 0 0 0 0 0 0 0 0 0 0 0 0 0 0\n",
      " 0 0 0 0 0 0 0 0 0 0 0 0 0 0 0 0 0 0 0 0 0 0 0 0 0 0 0 0 0 0 0 0 0 0 0 0 0\n",
      " 0 0 0 0 0 0 0 0 0 0 0 0 0 0 0 0 0 0 0 0 0 0 0 0 0 0 0 0 0 0 0 0 0 0 0 0 0\n",
      " 0 0 0 0 0 0 0 0 0 0 0 0 0 0 0 0 0 0 0 0 0 0 0 0 0 0 0 0 0 0 0 0 0 0 0 0 0\n",
      " 0 0 0 0 0 0 0 0 0 0 0 0 0 0 0 0 0 0 0 0 0 0 0 0 0 0 0 0 0 0 0 0 0 0 0 0 0\n",
      " 0 0 0 0 0 0 0 0 0 0 0 0 0 0 0 0 0 0 0 0 0 0 0 0 0 0 0 0 0 0 0 0 0 0 0 0 0\n",
      " 0 0 0 0 0 0 0 0 0 0 0 0 0 0 0 0 0 0 0 0 0 0 0 0 0 0 0 0 0 0 0 0 0 0 0 0 0\n",
      " 0 0 0 0 0 0 0 0 0 0 0 0 0 0 0 0 0 0 0 0 0 0 0 0 0 0 0 0 0 0 0 0 0 0 0 0 0\n",
      " 0 0 0 0 0 0 0 0 0 0 0 0 0 0 0 0 0 0 0 0 0 0 0 0 0 0 0 0 0 0 0 0 0 0 0 0 0\n",
      " 0 0 0 0 0 0 0 0 0 0 0 0 0 0 0 0 0 0 0 0 0 0 0 0 0 0 0 0 0 0 0 0 0 0 0 0 0\n",
      " 0 0 0 0 0 0 0 0 0 0 0 0 0 0 0 0 0 0 0 0 0 0 0 0 0 0 0 0 0 0 0 0 0 0 0 0 0\n",
      " 0 0 0 0 1 0 0 0 0 0 0 0 0 0 0 0 0 0 0 0 0 0 0 0 0 0 0 0 0 0 0 0 0 0 0 0 0\n",
      " 0 0 0 0 0 0 0 0 0 0 0 0 0 0 0 0 0 0 0 0 0 0 0 0 0 0 0 0 0 0 0 0 0 0 0 0 0\n",
      " 0 0 0 0 0 0 0 0 0 0 0 0 0 0 0 0 0 0 0 0 0 0 0 0 0 0 0 0 0 0 0 0 0 0 0 0 0\n",
      " 0 0 0 0 0 0 0 0 0 0 0 0 0 0 0 0 0 0 0 0 0 0 0 0 0 0 0 0 0 0 0 0 0 0 0 0 0\n",
      " 0 0 0 0 0 0 0 0 0 0 0 0 0 0 0 0 0 0 0 0 0 0 0 0 0 0 0 0 0 0 0 0 0 0 0 0 0\n",
      " 0 0 0 0 0 0 0 0 0 0 0 0 0 0 0 0 0 0 0 0 0 0 0 0 0 0 0 0 0 0 0 0 0 0 0 0 0\n",
      " 0 0 0 0 0 0 0 0 0 0 0 0 0 0 0 0 0 1 0 0 0 0 0 0 0 0 0 0 0 0 0 0 0 0 0 0 0\n",
      " 0 0 0 0 0 0 0 0 0 0 0 0 0 0 0 0 0 0 0 0 0 0 0 0 0 0 0 0 0 0 0 0 0 0 0 0 0\n",
      " 0 0 0 0 0 0 0 0 0 0 0 0 0 0 0 0 0 0 0 0 0 0 0 0 0 0 0 0 0 0 0 0 0 0 0 0 0\n",
      " 0 0 0 0 0 0 0 0 0 0 0 0 0 0 0 0 0 0 0 0 0 0 0 0 0 0 0 0 0 0 0 0 0 0 0 0 0\n",
      " 0 0 0 0 0 0 0 0 0 0 0 0 0 0 0 0 0 0 0 0 0 0 0 0 0 0 0 0 0 0 0 0 0 0 0 0 0\n",
      " 0]\n",
      "[0 0 0 0 0 0 0 0 0 0 0 0 0 0 0 0 0 0 0 0 0 0 0 0 0 0 0 0 0 0 0 0 0 0 0 0 0\n",
      " 0 0 0 0 0 0 0 0 0 0 0 0 0 0 0 0 0 0 0 0 0 0 0 0 0 0 0 0 0 0 0 0 0 0 0 0 0\n",
      " 0 0 0 0 0 0 0 0 0 0 0 0 0 0 0 0 0 0 0 0 0 0 0 0 0 0 0 0 0 0 0 0 0 0 0 0 0\n",
      " 0 0 0 0 0 0 0 0 0 0 0 0 0 0 0 0 0 0 0 0 0 0 0 0 0 0 0 0 0 0 0 0 0 0 0 0 0\n",
      " 0 0 0 0 0 0 0 0 0 0 0 0 0 0 0 0 0 0 0 0 0 0 0 0 0 0 0 0 0 0 0 0 0 0 0 0 0\n",
      " 0 0 0 0 0 0 0 0 0 0 0 0 0 0 0 0 0 0 0 0 0 0 0 0 0 0 0 0 0 0 0 0 0 0 0 0 0\n",
      " 0 0 0 0 0 0 0 0 0 0 0 0 0 0 0 0 0 0 0 0 0 0 0 0 0 0 0 0 0 0 0 0 0 0 0 0 0\n",
      " 0 0 0 0 0 0 0 0 0 0 0 0 0 0 0 0 0 0 0 0 0 0 0 0 0 0 0 0 0 0 0 0 0 0 0 0 0\n",
      " 0 0 0 0 0 0 0 0 0 0 0 0 0 0 0 0 0 0 0 0 0 0 0 0 0 0 0 0 0 0 0 0 0 0 0 0 0\n",
      " 0 0 0 0 0 0 0 0 0 0 0 0 0 0 0 0 0 0 0 0 0 0 0 0 0 0 0 0 0 0 0 0 0 1 0 0 0\n",
      " 0 0 0 0 0 0 0 0 0 0 0 0 0 0 0 0 0 0 0 0 0 0 0 0 0 0 0 0 0 0 0 0 0 0 0 0 0\n",
      " 0 0 0 0 0 0 0 0 0 0 0 0 0 0 0 0 0 0 0 0 0 0 0 0 0 0 0 0 0 0 0 0 0 0 0 0 0\n",
      " 0 0 0 0 1 0 0 0 0 0 0 0 0 0 0 0 0 0 0 0 0 0 0 0 0 0 0 1 0 0 0 0 0 0 0 0 0\n",
      " 0 0 0 0 0 0 0 0 0 0 0 0 0 0 0 0 0 0 0 0 0 0 0 0 0 0 0 0 0 0 0 0 0 0 0 0 0\n",
      " 0 0 0 0 0 0 0 0 0 0 0 0 0 0 0 0 0 0 0 0 0 0 0 0 0 0 0 0 0 0 0 0 0 0 0 0 0\n",
      " 0 0 0 0 0 0 0 0 0 0 0 0 0 0 0 0 0 0 0 0 0 0 0 0 0 0 0 0 0 0 0 0 0 0 0 0 0\n",
      " 0 0 0 0 0 0 0 1 0 0 0 0 0 0 0 0 0 0 0 0 0 0 0 0 0 0 0 0 0 0 0 0 0 0 0 0 0\n",
      " 0 0 0 0 0 0 0 0 0 0 0 0 0 0 0 0 0 0 0 0 0 0 0 0 0 0 0 0 0 0 0 0 0 0 0 0 0\n",
      " 0 0 0 0 0 0 0 0 0 0 0 0 0 0 0 0 0 0 0 0 0 0 0 0 0 0 0 0 0 0 0 0 0 0 0 0 0\n",
      " 0 0 0 0 0 0 0 0 0 0 0 0 0 0 0 0 0 0 0 0 0 0 0 0 0 0 0 0 0 0 0 0 0 0 0 0 0\n",
      " 0 0 0 0 0 0 0 0 0 0 0 0 0 0 0 0 0 0 0 0 0 0 0 0 0 0 0 0 0 0 0 0 0 0 0 0 0\n",
      " 0 0 0 0 0 0 0 0 0 0 0 0 0 0 0 0 0 0 0 0 0 0 0 0 0 0 0 0 0 0 0 0 0 0 0 0 0\n",
      " 0 0 0 0 0 0 0 0 0 0 0 0 0 0 0 0 0 0 0 0 0 0 0 0 0 0 0 0 0 0 0 0 0 0 0 0 0\n",
      " 0 0 0 0 0 0 1 0 0 0 0 0 0 0 0 0 0 0 0 0 0 0 0 0 0 0 0 0 0 0 0 0 0 0 0 0 0\n",
      " 0 0 0 0 0 0 0 0 0 0 0 0 0 0 0 0 0 0 0 0 0 0 0 0 0 0 0 0 0 0 0 0 0 0 0 0 0\n",
      " 0 0 0 0 0 0 0 0 0 2 0 0 0 0 0 0 0 0 1 0 0 0 0 0 0 0 0 0 0 0 0 0 0 0 0 0 0\n",
      " 1 0 0 0 0 0 0 0 0 0 0 0 0 0 0 0 0 0 0 0 0 0 0 0 0 0 0 0 0 0 0 0 0 0 0 0 0\n",
      " 0]\n"
     ]
    }
   ],
   "source": [
    "#change text to vector using count vectorizer and scale\n",
    "\n",
    "matrix = CountVectorizer(analyzer='word',max_features=1000, ngram_range=(1, 3))\n",
    "X_train.shape\n",
    "X_train = matrix.fit_transform(X_train).toarray() #scaling\n",
    "X_test = matrix.fit_transform(X_test).toarray()\n",
    "np.set_printoptions(threshold=sys.maxsize)\n",
    "\n",
    "for i in range(2):\n",
    "  print(X_train[i])\n"
   ]
  },
  {
   "cell_type": "markdown",
   "metadata": {
    "id": "soR0G9lgxHTK"
   },
   "source": [
    "## Initialize and train the model"
   ]
  },
  {
   "cell_type": "code",
   "execution_count": 34,
   "metadata": {
    "colab": {
     "base_uri": "https://localhost:8080/"
    },
    "id": "TK15c0cToUSE",
    "outputId": "8103a25c-777d-40ab-b21c-1c53002818cf"
   },
   "outputs": [
    {
     "data": {
      "text/plain": [
       "GaussianNB()"
      ]
     },
     "execution_count": 34,
     "metadata": {},
     "output_type": "execute_result"
    }
   ],
   "source": [
    "# Naive Bayes \n",
    "from sklearn.naive_bayes import GaussianNB\n",
    "classifier = GaussianNB()\n",
    "classifier.fit(X_train, y_train)\n"
   ]
  },
  {
   "cell_type": "markdown",
   "metadata": {
    "id": "hV2xR9RXxPVg"
   },
   "source": [
    "## Predict using the test file"
   ]
  },
  {
   "cell_type": "code",
   "execution_count": 35,
   "metadata": {
    "id": "-rnOADRLoXqu"
   },
   "outputs": [],
   "source": [
    "# Predict Class\n",
    "y_pred = classifier.predict(X_test)"
   ]
  },
  {
   "cell_type": "markdown",
   "metadata": {
    "id": "iyYS4w2XxUXQ"
   },
   "source": [
    "## Meause accuracy"
   ]
  },
  {
   "cell_type": "code",
   "execution_count": 36,
   "metadata": {
    "colab": {
     "base_uri": "https://localhost:8080/"
    },
    "id": "cM3laZw_oelc",
    "outputId": "b23e9f37-0184-4729-d11e-c40a71c1df73"
   },
   "outputs": [
    {
     "data": {
      "text/plain": [
       "0.32751937984496127"
      ]
     },
     "execution_count": 36,
     "metadata": {},
     "output_type": "execute_result"
    }
   ],
   "source": [
    "# Accuracy \n",
    "from sklearn.metrics import accuracy_score\n",
    "accuracy = accuracy_score(y_test, y_pred)\n",
    "\n",
    "accuracy"
   ]
  },
  {
   "cell_type": "markdown",
   "metadata": {
    "id": "5qyFPQboxSiJ"
   },
   "source": [
    "A very low accuracy of 21.7% at first but when Mixed sentiment was removed, accuracy increased to 32.75%"
   ]
  },
  {
   "cell_type": "markdown",
   "metadata": {
    "id": "7hGQM1XBxiQ3"
   },
   "source": [
    "###Classification report and confusion matrix"
   ]
  },
  {
   "cell_type": "code",
   "execution_count": 37,
   "metadata": {
    "colab": {
     "base_uri": "https://localhost:8080/"
    },
    "id": "dYZCGBsdxVV_",
    "outputId": "e7045f47-3b07-4f84-cb4b-84dfa06f8f89"
   },
   "outputs": [
    {
     "name": "stdout",
     "output_type": "stream",
     "text": [
      "              precision    recall  f1-score   support\n",
      "\n",
      "     neutral       0.31      0.36      0.34       144\n",
      "    negative       0.47      0.29      0.36       251\n",
      "    positive       0.23      0.37      0.28       121\n",
      "\n",
      "    accuracy                           0.33       516\n",
      "   macro avg       0.34      0.34      0.32       516\n",
      "weighted avg       0.37      0.33      0.33       516\n",
      "\n"
     ]
    }
   ],
   "source": [
    "from sklearn.metrics import classification_report\n",
    "print(classification_report(y_test, y_pred, target_names=['neutral', 'negative', 'positive']))"
   ]
  },
  {
   "cell_type": "markdown",
   "metadata": {
    "id": "cBRmN3LiZid-"
   },
   "source": [
    "# Model 2: Naive Bayes model with TFIDF vectorizer"
   ]
  },
  {
   "cell_type": "code",
   "execution_count": null,
   "metadata": {
    "id": "V7JmHBDRZhmK"
   },
   "outputs": [],
   "source": [
    "from sklearn.feature_extraction.text import TfidfVectorizer"
   ]
  },
  {
   "cell_type": "code",
   "execution_count": null,
   "metadata": {
    "id": "5haF87RkaJXJ"
   },
   "outputs": [],
   "source": [
    "# put values of tweet and label in variables\n",
    "X_train, y_train = df_train['tweet'].values, df_train['sentiment'].values\n",
    "X_test, y_test = df_test['tweet'].values, df_test['sentiment'].values"
   ]
  },
  {
   "cell_type": "markdown",
   "metadata": {
    "id": "39ZgKxcExb_V"
   },
   "source": [
    "## Scale the data"
   ]
  },
  {
   "cell_type": "code",
   "execution_count": null,
   "metadata": {
    "id": "P0ccwC0XaPGa"
   },
   "outputs": [],
   "source": [
    "matrix = TfidfVectorizer(analyzer='word',max_features=1000, ngram_range=(1, 3))\n",
    "X_train = matrix.fit_transform(X_train).toarray() #scaling\n",
    "X_test = matrix.fit_transform(X_test).toarray()\n",
    "np.set_printoptions(threshold=sys.maxsize)"
   ]
  },
  {
   "cell_type": "markdown",
   "metadata": {
    "id": "jGO8H8w7dV7W"
   },
   "source": [
    "##  Initialize and train the model"
   ]
  },
  {
   "cell_type": "code",
   "execution_count": null,
   "metadata": {
    "colab": {
     "base_uri": "https://localhost:8080/"
    },
    "id": "WeAZtlG-dCWJ",
    "outputId": "031c04b1-0c82-4810-8e8b-a004b316435d"
   },
   "outputs": [
    {
     "data": {
      "text/plain": [
       "GaussianNB(priors=None, var_smoothing=1e-09)"
      ]
     },
     "execution_count": 53,
     "metadata": {
      "tags": []
     },
     "output_type": "execute_result"
    }
   ],
   "source": [
    "classifier = GaussianNB()\n",
    "classifier.fit(X_train, y_train)"
   ]
  },
  {
   "cell_type": "markdown",
   "metadata": {
    "id": "W0srtKx0dao8"
   },
   "source": [
    "## Make a prediction"
   ]
  },
  {
   "cell_type": "code",
   "execution_count": null,
   "metadata": {
    "id": "EBFs2-KJdeP-"
   },
   "outputs": [],
   "source": [
    "y_pred = classifier.predict(X_test)"
   ]
  },
  {
   "cell_type": "markdown",
   "metadata": {
    "id": "ug9qtx_Kdkty"
   },
   "source": [
    "## Calculate the accuracy"
   ]
  },
  {
   "cell_type": "code",
   "execution_count": null,
   "metadata": {
    "colab": {
     "base_uri": "https://localhost:8080/"
    },
    "id": "7EyaAtoHdqm8",
    "outputId": "c9e2ecdb-f5ef-40c7-b0a8-2a3058ed7e48"
   },
   "outputs": [
    {
     "data": {
      "text/plain": [
       "0.31007751937984496"
      ]
     },
     "execution_count": 55,
     "metadata": {
      "tags": []
     },
     "output_type": "execute_result"
    }
   ],
   "source": [
    "from sklearn.metrics import accuracy_score\n",
    "accuracy = accuracy_score(y_test, y_pred)\n",
    "accuracy"
   ]
  },
  {
   "cell_type": "markdown",
   "metadata": {
    "id": "mGpBObs0d2n7"
   },
   "source": [
    "Had a very low accuracy of 21.5% but it increased to 31% once \"mixed\" sentiments were removed."
   ]
  },
  {
   "cell_type": "markdown",
   "metadata": {
    "id": "y4pndOVbAPaG"
   },
   "source": [
    "# Base class for Model 3, 4 & 5"
   ]
  },
  {
   "cell_type": "code",
   "execution_count": null,
   "metadata": {
    "id": "pwlbVX0Jham0"
   },
   "outputs": [],
   "source": [
    "class Base:\n",
    "    \"\"\"Base class that houses common utilities for reading in test data\n",
    "    and calculating model accuracy and F1 scores.\n",
    "    \"\"\"\n",
    "    def __init__(self) -> None:\n",
    "        pass\n",
    "\n",
    "    def read_data(self, fname: str, lower_case: bool=False,\n",
    "                  colnames=['truth', 'text']) -> pd.DataFrame:\n",
    "        \"Read in test data into a Pandas DataFrame\"\n",
    "        df = pd.read_csv(fname, sep='\\t', header=None, names=colnames)\n",
    "        df['truth'] = df['truth'].str.replace('__label__', '')\n",
    "        # Categorical data type for truth labels\n",
    "        df['truth'] = df['truth'].astype(int).astype('category')\n",
    "\n",
    "        # Optional lowercase for test data (if model was trained on lowercased text)\n",
    "        if lower_case:\n",
    "            df['text'] = df['text'].str.lower()\n",
    "        return df\n",
    "\n",
    "    def accuracy(self, df: pd.DataFrame) -> None:\n",
    "        \"Prediction accuracy (percentage) and F1 score\"\n",
    "\n",
    "        acc = accuracy_score(df['sentiment'], df['pred'])*100\n",
    "        f1 = f1_score(df['sentiment'], df['pred'], average='macro')*100\n",
    "\n",
    "        recall = recall_score(df['sentiment'], df['pred'], average='macro')*100\n",
    "        precision = precision_score(df['sentiment'], df['pred'], average='macro')*100\n",
    "        newf1 = 2 * recall * precision / (recall + precision)\n",
    "\n",
    "        df.to_csv(\"result.csv\",index = False)\n",
    "\n",
    "        print(len(df))\n",
    "        print(\n",
    "            \"Accuracy: {:.3f}\\nMacro F1-score: {:.3f}\\nMacro recall: {:.3f}\\nMacro precission: {:.3f}\\nNew F1 MAcro: {:.3f}\".format(\n",
    "                acc, f1, recall, precision, newf1))\n",
    "        print(\"{:.2f} & {:.2f} & {:.2f} & {:.2f}\".format(acc, recall, precision, newf1))"
   ]
  },
  {
   "cell_type": "markdown",
   "metadata": {
    "id": "j5oxk52lhQyG"
   },
   "source": [
    "# Model 3: Text blob sentiment"
   ]
  },
  {
   "cell_type": "code",
   "execution_count": null,
   "metadata": {
    "id": "Ev1l8pb1hVCq"
   },
   "outputs": [],
   "source": [
    "import pandas as pd\n",
    "from sklearn.metrics import f1_score, accuracy_score, recall_score, precision_score\n",
    "from sklearn.metrics import classification_report"
   ]
  },
  {
   "cell_type": "code",
   "execution_count": null,
   "metadata": {
    "id": "eLmb1nwEiH-C"
   },
   "outputs": [],
   "source": [
    "class TextBlobSentiment(Base):\n",
    "    \"\"\"Predict sentiment scores using TextBlob.\n",
    "    https://textblob.readthedocs.io/en/dev/\n",
    "    \"\"\"\n",
    "    def __init__(self, model_file: str=None) -> None:\n",
    "        super().__init__()\n",
    "\n",
    "    def score(self, text: str) -> float:\n",
    "        # pip install textblob\n",
    "        from textblob import TextBlob\n",
    "        return TextBlob(text).sentiment.polarity\n",
    "\n",
    "    def predict(self, df_train, df_test, lower_case: bool) -> pd.DataFrame:\n",
    "        df_test['score'] = df_test['tweet'].apply(self.score)\n",
    "        # Convert float score to category based on binning\n",
    "        df_test['pred'] = pd.cut(df_test['score'],\n",
    "                            bins=3,\n",
    "                            labels=[\"negative\", \"neutral\", \"positive\"])\n",
    "        df = df_test.drop('score', axis=1)\n",
    "        return df"
   ]
  },
  {
   "cell_type": "markdown",
   "metadata": {
    "id": "c_IQVpSexqgh"
   },
   "source": [
    "## Initialize the model"
   ]
  },
  {
   "cell_type": "code",
   "execution_count": null,
   "metadata": {
    "id": "Fqn90NWcjo7c"
   },
   "outputs": [],
   "source": [
    "text_blob = TextBlobSentiment()\n"
   ]
  },
  {
   "cell_type": "markdown",
   "metadata": {
    "id": "piA_2Thbx0Wq"
   },
   "source": [
    "## Train the model"
   ]
  },
  {
   "cell_type": "code",
   "execution_count": null,
   "metadata": {
    "id": "u01zIigskRwr"
   },
   "outputs": [],
   "source": [
    "result = text_blob.predict(df_train, df_test, True)\n"
   ]
  },
  {
   "cell_type": "markdown",
   "metadata": {
    "id": "buRzP3Yhx3KN"
   },
   "source": [
    "## Calculate the accuracy"
   ]
  },
  {
   "cell_type": "code",
   "execution_count": null,
   "metadata": {
    "colab": {
     "base_uri": "https://localhost:8080/"
    },
    "id": "o16lQxKms3gU",
    "outputId": "7ba3a303-1344-4d1f-96d5-0e5de525e557"
   },
   "outputs": [
    {
     "name": "stdout",
     "output_type": "stream",
     "text": [
      "516\n",
      "Accuracy: 45.930\n",
      "Macro F1-score: 22.774\n",
      "Macro recall: 31.957\n",
      "Macro precission: 35.659\n",
      "New F1 MAcro: 33.707\n",
      "45.93 & 31.96 & 35.66 & 33.71\n"
     ]
    }
   ],
   "source": [
    "text_blob.accuracy(result)"
   ]
  },
  {
   "cell_type": "markdown",
   "metadata": {
    "id": "hvO82bn-8llV"
   },
   "source": [
    "### Got a higher accuracy of 45%, which is higher than the Naive Bayes model with count vectorizer and tfidf vectorizer."
   ]
  },
  {
   "cell_type": "markdown",
   "metadata": {
    "id": "Nd3PCAcn6meT"
   },
   "source": [
    "# Model 4: SVM"
   ]
  },
  {
   "cell_type": "code",
   "execution_count": null,
   "metadata": {
    "id": "vl2Ci-PW6k7G"
   },
   "outputs": [],
   "source": [
    "class SVMSentiment(Base):\n",
    "    \"\"\"Predict sentiment scores using a linear Support Vector Machine (SVM).\n",
    "    Uses a sklearn pipeline.\n",
    "    \"\"\"\n",
    "    def __init__(self, model_file: str=None) -> None:\n",
    "        super().__init__()\n",
    "        # pip install sklearn\n",
    "        from sklearn.feature_extraction.text import CountVectorizer, TfidfTransformer\n",
    "        from sklearn.linear_model import SGDClassifier\n",
    "        from sklearn.pipeline import Pipeline\n",
    "        self.pipeline = Pipeline(\n",
    "            [\n",
    "                ('vect', CountVectorizer()),\n",
    "                ('tfidf', TfidfTransformer()),\n",
    "                ('clf', SGDClassifier(\n",
    "                    loss='hinge',\n",
    "                    penalty='l2',\n",
    "                    alpha=1e-3,\n",
    "                    random_state=42,\n",
    "                    max_iter=100,\n",
    "                    learning_rate='optimal',\n",
    "                    tol=None,\n",
    "                )),\n",
    "            ]\n",
    "        )\n",
    "\n",
    "    def predict(self, df_train, df_test, lower_case: bool) -> pd.DataFrame:\n",
    "        \"Train model using sklearn pipeline\"\n",
    "        learner = self.pipeline.fit(df_train['tweet'], df_train['sentiment'])\n",
    "\n",
    "        # Fit the learner to the test data\n",
    "        df_test['pred'] = learner.predict(df_test['tweet'])\n",
    "        return df_test\n"
   ]
  },
  {
   "cell_type": "markdown",
   "metadata": {
    "id": "bElOxykzx__t"
   },
   "source": [
    "## Initialize the model"
   ]
  },
  {
   "cell_type": "code",
   "execution_count": null,
   "metadata": {
    "id": "Gq8zCpxcpmdS"
   },
   "outputs": [],
   "source": [
    "svm = SVMSentiment()"
   ]
  },
  {
   "cell_type": "markdown",
   "metadata": {
    "id": "zPpELW8NyCNy"
   },
   "source": [
    "## Train the model and predict using test data"
   ]
  },
  {
   "cell_type": "code",
   "execution_count": null,
   "metadata": {
    "id": "gdqYMsK0ptq_"
   },
   "outputs": [],
   "source": [
    "result = svm.predict(df_train, df_test, True)"
   ]
  },
  {
   "cell_type": "markdown",
   "metadata": {
    "id": "ugmesZiDyMg3"
   },
   "source": [
    "## Calculate the accuracy"
   ]
  },
  {
   "cell_type": "code",
   "execution_count": null,
   "metadata": {
    "colab": {
     "base_uri": "https://localhost:8080/"
    },
    "id": "WOq1Ih06qoEw",
    "outputId": "e9a08604-3a5c-4fb9-b208-e1f0d9801320"
   },
   "outputs": [
    {
     "name": "stdout",
     "output_type": "stream",
     "text": [
      "516\n",
      "Accuracy: 50.775\n",
      "Macro F1-score: 28.060\n",
      "Macro recall: 36.506\n",
      "Macro precission: 45.172\n",
      "New F1 MAcro: 40.379\n",
      "50.78 & 36.51 & 45.17 & 40.38\n"
     ]
    },
    {
     "name": "stderr",
     "output_type": "stream",
     "text": [
      "/usr/local/lib/python3.7/dist-packages/sklearn/metrics/_classification.py:1272: UndefinedMetricWarning: Precision is ill-defined and being set to 0.0 in labels with no predicted samples. Use `zero_division` parameter to control this behavior.\n",
      "  _warn_prf(average, modifier, msg_start, len(result))\n"
     ]
    }
   ],
   "source": [
    "svm.accuracy(result)"
   ]
  },
  {
   "cell_type": "markdown",
   "metadata": {
    "id": "3C7_1x_sq0eZ"
   },
   "source": [
    "## Higher accuracy of 50%. Which is better than the textblob sentiment model"
   ]
  },
  {
   "cell_type": "markdown",
   "metadata": {
    "id": "VwSI_4pV6dRz"
   },
   "source": [
    "## Using only 2 classification (negative / positive) on SVM"
   ]
  },
  {
   "cell_type": "code",
   "execution_count": null,
   "metadata": {
    "id": "10rT1t2k6j60"
   },
   "outputs": [],
   "source": [
    "# drop \"neutral\" sentiment from df train and df_test\n",
    "df_train = df_train[df_train[\"sentiment\"].str.contains(\"neutral\")==False]\n",
    "df_test = df_test[df_test[\"sentiment\"].str.contains(\"neutral\")==False]"
   ]
  },
  {
   "cell_type": "code",
   "execution_count": null,
   "metadata": {
    "id": "KRNPc9m99DFi"
   },
   "outputs": [],
   "source": [
    "svm = SVMSentiment()"
   ]
  },
  {
   "cell_type": "code",
   "execution_count": null,
   "metadata": {
    "id": "yeoi114K9FlW"
   },
   "outputs": [],
   "source": [
    "result = svm.predict(df_train, df_test, True)"
   ]
  },
  {
   "cell_type": "code",
   "execution_count": null,
   "metadata": {
    "colab": {
     "base_uri": "https://localhost:8080/"
    },
    "id": "nlfYSRzW9K6W",
    "outputId": "5ed6c642-38f2-4bae-f222-56b01b5728b0"
   },
   "outputs": [
    {
     "name": "stdout",
     "output_type": "stream",
     "text": [
      "265\n",
      "Accuracy: 70.189\n",
      "Macro F1-score: 66.859\n",
      "Macro recall: 67.949\n",
      "Macro precission: 75.427\n",
      "New F1 MAcro: 71.493\n",
      "70.19 & 67.95 & 75.43 & 71.49\n"
     ]
    }
   ],
   "source": [
    "svm.accuracy(result)"
   ]
  },
  {
   "cell_type": "markdown",
   "metadata": {
    "id": "Z1qlDjEw9SF8"
   },
   "source": [
    "### Accuracy increased to 70% once neutral sentiments was removed. Around a 20% increase."
   ]
  },
  {
   "cell_type": "markdown",
   "metadata": {
    "id": "d6Cv3DlihFJg"
   },
   "source": [
    "# The code after this is still in the works. I started working on FastText but run into a couple of problems with the pre-trained model I was going to use. I've already contacted the people who have worked on similar model and I'm waiting on their pretrained model to be provided so that I can continue with exploring other models."
   ]
  },
  {
   "cell_type": "markdown",
   "metadata": {
    "id": "Nm-9rKH1_jQn"
   },
   "source": [
    "# Model 5: Using FastText"
   ]
  },
  {
   "cell_type": "code",
   "execution_count": null,
   "metadata": {
    "colab": {
     "base_uri": "https://localhost:8080/"
    },
    "id": "tA20Gg1EQszA",
    "outputId": "9f7de20d-c628-48a7-dc03-7e4c28610129"
   },
   "outputs": [
    {
     "name": "stdout",
     "output_type": "stream",
     "text": [
      "Requirement already satisfied: fasttext in /usr/local/lib/python3.7/dist-packages (0.9.2)\n",
      "Requirement already satisfied: pybind11>=2.2 in /usr/local/lib/python3.7/dist-packages (from fasttext) (2.6.2)\n",
      "Requirement already satisfied: setuptools>=0.7.0 in /usr/local/lib/python3.7/dist-packages (from fasttext) (56.1.0)\n",
      "Requirement already satisfied: numpy in /usr/local/lib/python3.7/dist-packages (from fasttext) (1.19.5)\n"
     ]
    }
   ],
   "source": [
    "!pip3 install fasttext"
   ]
  },
  {
   "cell_type": "code",
   "execution_count": null,
   "metadata": {
    "id": "SwDX851L9RdV"
   },
   "outputs": [],
   "source": [
    "class FastTextSentiment(Base):\n",
    "    \"\"\"Predict sentiment scores using FastText.\n",
    "    https://fasttext.cc/\n",
    "    \"\"\"\n",
    "    def __init__(self, model_file: str=None) -> None:\n",
    "        super().__init__()\n",
    "        # pip install fasttext\n",
    "        import fasttext\n",
    "        try:\n",
    "            self.model = fasttext.load_model(model_file)\n",
    "        except ValueError:\n",
    "            raise Exception(\"Please specify a valid trained FastText model file (.bin or .ftz extension)'{}'.\"\n",
    "                            .format(model_file))\n",
    "\n",
    "    def score(self, text: str) -> int:\n",
    "        # Predict just the top label (hence 1 index below)\n",
    "        labels, probabilities = self.model.predict(text, 1)\n",
    "        pred = int(labels[0][-1])\n",
    "        return pred\n",
    "        \n",
    "    def predict(self, df_train, df_test, lower_case: bool) -> pd.DataFrame:\n",
    "        # df = self.read_data(test_file, lower_case)\n",
    "        df_test['pred'] = df_test['tweet'].apply(self.score)\n",
    "        return df"
   ]
  },
  {
   "cell_type": "markdown",
   "metadata": {
    "id": "w7KThsVlExr6"
   },
   "source": [
    "## get pre-trained model from drive"
   ]
  },
  {
   "cell_type": "code",
   "execution_count": null,
   "metadata": {
    "colab": {
     "base_uri": "https://localhost:8080/"
    },
    "id": "mZSpRLB6HJlZ",
    "outputId": "b1c96da1-4743-4bf3-e6ef-4f6535e58d62"
   },
   "outputs": [
    {
     "name": "stdout",
     "output_type": "stream",
     "text": [
      "Drive already mounted at /content/drive; to attempt to forcibly remount, call drive.mount(\"/content/drive\", force_remount=True).\n"
     ]
    }
   ],
   "source": [
    "from google.colab import drive\n",
    "drive.mount('/content/drive')"
   ]
  },
  {
   "cell_type": "code",
   "execution_count": null,
   "metadata": {
    "id": "YNv0zg68OHQK"
   },
   "outputs": [],
   "source": [
    "import fasttext\n",
    "#helps in removing warning message https://stackoverflow.com/questions/66353366/cant-suppress-fasttext-warning-load-model-does-not-return\n",
    "fasttext.FastText.eprint = lambda x: None"
   ]
  },
  {
   "cell_type": "markdown",
   "metadata": {
    "id": "M86VcXNKPDc5"
   },
   "source": [
    "### initialize the model"
   ]
  },
  {
   "cell_type": "code",
   "execution_count": null,
   "metadata": {
    "id": "m1LsYZEXALP-"
   },
   "outputs": [],
   "source": [
    "# model_file = \"./cc.am.300.bin\"\n",
    "# drive.mount('/content/gdrive')\n",
    "# root_path = 'gdrive/My Drive/your_project_folder/'\n",
    "\n",
    "#model located in google drive\n",
    "path = 'drive/My Drive/cc.am.300.bin'\n",
    "\n",
    "fast_text = FastTextSentiment(path)"
   ]
  },
  {
   "cell_type": "code",
   "execution_count": null,
   "metadata": {
    "colab": {
     "base_uri": "https://localhost:8080/",
     "height": 345
    },
    "id": "Lt9djyEaO3Ma",
    "outputId": "81be2b3b-eeba-4b4c-d39a-baf1482b47cd"
   },
   "outputs": [
    {
     "ename": "ValueError",
     "evalue": "ignored",
     "output_type": "error",
     "traceback": [
      "\u001b[0;31m---------------------------------------------------------------------------\u001b[0m",
      "\u001b[0;31mValueError\u001b[0m                                Traceback (most recent call last)",
      "\u001b[0;32m<ipython-input-24-08e472acd0bd>\u001b[0m in \u001b[0;36m<module>\u001b[0;34m()\u001b[0m\n\u001b[0;32m----> 1\u001b[0;31m \u001b[0mresult\u001b[0m \u001b[0;34m=\u001b[0m \u001b[0mfast_text\u001b[0m\u001b[0;34m.\u001b[0m\u001b[0mpredict\u001b[0m\u001b[0;34m(\u001b[0m\u001b[0mdf_train\u001b[0m\u001b[0;34m,\u001b[0m \u001b[0mdf_test\u001b[0m\u001b[0;34m,\u001b[0m \u001b[0;32mTrue\u001b[0m\u001b[0;34m)\u001b[0m\u001b[0;34m\u001b[0m\u001b[0;34m\u001b[0m\u001b[0m\n\u001b[0m",
      "\u001b[0;32m<ipython-input-18-6e1b5c458544>\u001b[0m in \u001b[0;36mpredict\u001b[0;34m(self, df_train, df_test, lower_case)\u001b[0m\n\u001b[1;32m     21\u001b[0m     \u001b[0;32mdef\u001b[0m \u001b[0mpredict\u001b[0m\u001b[0;34m(\u001b[0m\u001b[0mself\u001b[0m\u001b[0;34m,\u001b[0m \u001b[0mdf_train\u001b[0m\u001b[0;34m,\u001b[0m \u001b[0mdf_test\u001b[0m\u001b[0;34m,\u001b[0m \u001b[0mlower_case\u001b[0m\u001b[0;34m:\u001b[0m \u001b[0mbool\u001b[0m\u001b[0;34m)\u001b[0m \u001b[0;34m->\u001b[0m \u001b[0mpd\u001b[0m\u001b[0;34m.\u001b[0m\u001b[0mDataFrame\u001b[0m\u001b[0;34m:\u001b[0m\u001b[0;34m\u001b[0m\u001b[0;34m\u001b[0m\u001b[0m\n\u001b[1;32m     22\u001b[0m         \u001b[0;31m# df = self.read_data(test_file, lower_case)\u001b[0m\u001b[0;34m\u001b[0m\u001b[0;34m\u001b[0m\u001b[0;34m\u001b[0m\u001b[0m\n\u001b[0;32m---> 23\u001b[0;31m         \u001b[0mdf_test\u001b[0m\u001b[0;34m[\u001b[0m\u001b[0;34m'pred'\u001b[0m\u001b[0;34m]\u001b[0m \u001b[0;34m=\u001b[0m \u001b[0mdf_test\u001b[0m\u001b[0;34m[\u001b[0m\u001b[0;34m'tweet'\u001b[0m\u001b[0;34m]\u001b[0m\u001b[0;34m.\u001b[0m\u001b[0mapply\u001b[0m\u001b[0;34m(\u001b[0m\u001b[0mself\u001b[0m\u001b[0;34m.\u001b[0m\u001b[0mscore\u001b[0m\u001b[0;34m)\u001b[0m\u001b[0;34m\u001b[0m\u001b[0;34m\u001b[0m\u001b[0m\n\u001b[0m\u001b[1;32m     24\u001b[0m         \u001b[0;32mreturn\u001b[0m \u001b[0mdf\u001b[0m\u001b[0;34m\u001b[0m\u001b[0;34m\u001b[0m\u001b[0m\n",
      "\u001b[0;32m/usr/local/lib/python3.7/dist-packages/pandas/core/series.py\u001b[0m in \u001b[0;36mapply\u001b[0;34m(self, func, convert_dtype, args, **kwds)\u001b[0m\n\u001b[1;32m   4211\u001b[0m             \u001b[0;32melse\u001b[0m\u001b[0;34m:\u001b[0m\u001b[0;34m\u001b[0m\u001b[0;34m\u001b[0m\u001b[0m\n\u001b[1;32m   4212\u001b[0m                 \u001b[0mvalues\u001b[0m \u001b[0;34m=\u001b[0m \u001b[0mself\u001b[0m\u001b[0;34m.\u001b[0m\u001b[0mastype\u001b[0m\u001b[0;34m(\u001b[0m\u001b[0mobject\u001b[0m\u001b[0;34m)\u001b[0m\u001b[0;34m.\u001b[0m\u001b[0m_values\u001b[0m\u001b[0;34m\u001b[0m\u001b[0;34m\u001b[0m\u001b[0m\n\u001b[0;32m-> 4213\u001b[0;31m                 \u001b[0mmapped\u001b[0m \u001b[0;34m=\u001b[0m \u001b[0mlib\u001b[0m\u001b[0;34m.\u001b[0m\u001b[0mmap_infer\u001b[0m\u001b[0;34m(\u001b[0m\u001b[0mvalues\u001b[0m\u001b[0;34m,\u001b[0m \u001b[0mf\u001b[0m\u001b[0;34m,\u001b[0m \u001b[0mconvert\u001b[0m\u001b[0;34m=\u001b[0m\u001b[0mconvert_dtype\u001b[0m\u001b[0;34m)\u001b[0m\u001b[0;34m\u001b[0m\u001b[0;34m\u001b[0m\u001b[0m\n\u001b[0m\u001b[1;32m   4214\u001b[0m \u001b[0;34m\u001b[0m\u001b[0m\n\u001b[1;32m   4215\u001b[0m         \u001b[0;32mif\u001b[0m \u001b[0mlen\u001b[0m\u001b[0;34m(\u001b[0m\u001b[0mmapped\u001b[0m\u001b[0;34m)\u001b[0m \u001b[0;32mand\u001b[0m \u001b[0misinstance\u001b[0m\u001b[0;34m(\u001b[0m\u001b[0mmapped\u001b[0m\u001b[0;34m[\u001b[0m\u001b[0;36m0\u001b[0m\u001b[0;34m]\u001b[0m\u001b[0;34m,\u001b[0m \u001b[0mSeries\u001b[0m\u001b[0;34m)\u001b[0m\u001b[0;34m:\u001b[0m\u001b[0;34m\u001b[0m\u001b[0;34m\u001b[0m\u001b[0m\n",
      "\u001b[0;32mpandas/_libs/lib.pyx\u001b[0m in \u001b[0;36mpandas._libs.lib.map_infer\u001b[0;34m()\u001b[0m\n",
      "\u001b[0;32m<ipython-input-18-6e1b5c458544>\u001b[0m in \u001b[0;36mscore\u001b[0;34m(self, text)\u001b[0m\n\u001b[1;32m     15\u001b[0m     \u001b[0;32mdef\u001b[0m \u001b[0mscore\u001b[0m\u001b[0;34m(\u001b[0m\u001b[0mself\u001b[0m\u001b[0;34m,\u001b[0m \u001b[0mtext\u001b[0m\u001b[0;34m:\u001b[0m \u001b[0mstr\u001b[0m\u001b[0;34m)\u001b[0m \u001b[0;34m->\u001b[0m \u001b[0mint\u001b[0m\u001b[0;34m:\u001b[0m\u001b[0;34m\u001b[0m\u001b[0;34m\u001b[0m\u001b[0m\n\u001b[1;32m     16\u001b[0m         \u001b[0;31m# Predict just the top label (hence 1 index below)\u001b[0m\u001b[0;34m\u001b[0m\u001b[0;34m\u001b[0m\u001b[0;34m\u001b[0m\u001b[0m\n\u001b[0;32m---> 17\u001b[0;31m         \u001b[0mlabels\u001b[0m\u001b[0;34m,\u001b[0m \u001b[0mprobabilities\u001b[0m \u001b[0;34m=\u001b[0m \u001b[0mself\u001b[0m\u001b[0;34m.\u001b[0m\u001b[0mmodel\u001b[0m\u001b[0;34m.\u001b[0m\u001b[0mpredict\u001b[0m\u001b[0;34m(\u001b[0m\u001b[0mtext\u001b[0m\u001b[0;34m,\u001b[0m \u001b[0;36m1\u001b[0m\u001b[0;34m)\u001b[0m\u001b[0;34m\u001b[0m\u001b[0;34m\u001b[0m\u001b[0m\n\u001b[0m\u001b[1;32m     18\u001b[0m         \u001b[0mpred\u001b[0m \u001b[0;34m=\u001b[0m \u001b[0mint\u001b[0m\u001b[0;34m(\u001b[0m\u001b[0mlabels\u001b[0m\u001b[0;34m[\u001b[0m\u001b[0;36m0\u001b[0m\u001b[0;34m]\u001b[0m\u001b[0;34m[\u001b[0m\u001b[0;34m-\u001b[0m\u001b[0;36m1\u001b[0m\u001b[0;34m]\u001b[0m\u001b[0;34m)\u001b[0m\u001b[0;34m\u001b[0m\u001b[0;34m\u001b[0m\u001b[0m\n\u001b[1;32m     19\u001b[0m         \u001b[0;32mreturn\u001b[0m \u001b[0mpred\u001b[0m\u001b[0;34m\u001b[0m\u001b[0;34m\u001b[0m\u001b[0m\n",
      "\u001b[0;32m/usr/local/lib/python3.7/dist-packages/fasttext/FastText.py\u001b[0m in \u001b[0;36mpredict\u001b[0;34m(self, text, k, threshold, on_unicode_error)\u001b[0m\n\u001b[1;32m    224\u001b[0m         \u001b[0;32melse\u001b[0m\u001b[0;34m:\u001b[0m\u001b[0;34m\u001b[0m\u001b[0;34m\u001b[0m\u001b[0m\n\u001b[1;32m    225\u001b[0m             \u001b[0mtext\u001b[0m \u001b[0;34m=\u001b[0m \u001b[0mcheck\u001b[0m\u001b[0;34m(\u001b[0m\u001b[0mtext\u001b[0m\u001b[0;34m)\u001b[0m\u001b[0;34m\u001b[0m\u001b[0;34m\u001b[0m\u001b[0m\n\u001b[0;32m--> 226\u001b[0;31m             \u001b[0mpredictions\u001b[0m \u001b[0;34m=\u001b[0m \u001b[0mself\u001b[0m\u001b[0;34m.\u001b[0m\u001b[0mf\u001b[0m\u001b[0;34m.\u001b[0m\u001b[0mpredict\u001b[0m\u001b[0;34m(\u001b[0m\u001b[0mtext\u001b[0m\u001b[0;34m,\u001b[0m \u001b[0mk\u001b[0m\u001b[0;34m,\u001b[0m \u001b[0mthreshold\u001b[0m\u001b[0;34m,\u001b[0m \u001b[0mon_unicode_error\u001b[0m\u001b[0;34m)\u001b[0m\u001b[0;34m\u001b[0m\u001b[0;34m\u001b[0m\u001b[0m\n\u001b[0m\u001b[1;32m    227\u001b[0m             \u001b[0;32mif\u001b[0m \u001b[0mpredictions\u001b[0m\u001b[0;34m:\u001b[0m\u001b[0;34m\u001b[0m\u001b[0;34m\u001b[0m\u001b[0m\n\u001b[1;32m    228\u001b[0m                 \u001b[0mprobs\u001b[0m\u001b[0;34m,\u001b[0m \u001b[0mlabels\u001b[0m \u001b[0;34m=\u001b[0m \u001b[0mzip\u001b[0m\u001b[0;34m(\u001b[0m\u001b[0;34m*\u001b[0m\u001b[0mpredictions\u001b[0m\u001b[0;34m)\u001b[0m\u001b[0;34m\u001b[0m\u001b[0;34m\u001b[0m\u001b[0m\n",
      "\u001b[0;31mValueError\u001b[0m: Model needs to be supervised for prediction!"
     ]
    }
   ],
   "source": [
    "result = fast_text.predict(df_train, df_test, True)"
   ]
  },
  {
   "cell_type": "markdown",
   "metadata": {
    "id": "7jHdGScHweZZ"
   },
   "source": [
    "# Tokenization"
   ]
  },
  {
   "cell_type": "code",
   "execution_count": null,
   "metadata": {
    "id": "ZvXC3TeSweLH"
   },
   "outputs": [],
   "source": [
    "from nltk.tokenize import word_tokenize\n",
    "df_test['tweet'] = df_test['tweet'].apply(word_tokenize)"
   ]
  },
  {
   "cell_type": "markdown",
   "metadata": {
    "id": "kuFlvN8DezXF"
   },
   "source": [
    "https://colab.research.google.com/github/JohnSnowLabs/spark-nlp-workshop/blob/master/tutorials/streamlit_notebooks/TEXT_PREPROCESSING.ipynb#scrollTo=hm2G1yAsHTGH"
   ]
  },
  {
   "cell_type": "code",
   "execution_count": null,
   "metadata": {
    "id": "Gg_wSWKU6OZp"
   },
   "outputs": [],
   "source": [
    "# import com.johnsnowlabs.nlp.DocumentAssembler\n",
    "# import com.johnsnowlabs.nlp.annotator.NorvigSweetingModel\n",
    "# import com.johnsnowlabs.nlp.annotators.Tokenizer\n",
    "# import org.apache.spark.ml.Pipeline\n",
    "!wget http://setup.johnsnowlabs.com/colab.sh -O - | bash"
   ]
  },
  {
   "cell_type": "code",
   "execution_count": null,
   "metadata": {
    "id": "eVi5z_o6A69M"
   },
   "outputs": [],
   "source": [
    "import pandas as pd\n",
    "import numpy as np\n",
    "import json\n",
    "from pyspark.ml import Pipeline\n",
    "from pyspark.sql import SparkSession\n",
    "import pyspark.sql.functions as F\n",
    "from sparknlp.annotator import *\n",
    "from sparknlp.base import *\n",
    "import sparknlp\n",
    "from sparknlp.pretrained import PretrainedPipeline\n"
   ]
  },
  {
   "cell_type": "code",
   "execution_count": null,
   "metadata": {
    "id": "kXn-Ko3aBbid"
   },
   "outputs": [],
   "source": [
    "#initialize spark context\n",
    "spark = sparknlp.start()\n"
   ]
  },
  {
   "cell_type": "markdown",
   "metadata": {
    "id": "OzjdpZdDHMX_"
   },
   "source": [
    "https://www.kdnuggets.com/2019/11/spark-nlp-101-lightpipeline.html\n",
    "fullAnnotate() returns the content and metadata in Annotation type. According to documentation, the Annotation type has the following attributes:\n",
    "```\n",
    "annotatorType: String, \n",
    "begin: Int, \n",
    "end: Int, \n",
    "result: String, (this is what annotate returns)\n",
    "metadata: Map[String, String], \n",
    "embeddings: Array[Float]\n",
    "```"
   ]
  },
  {
   "cell_type": "code",
   "execution_count": null,
   "metadata": {
    "colab": {
     "base_uri": "https://localhost:8080/"
    },
    "id": "fDN8RnCK6CA5",
    "outputId": "b01f299c-8467-43bf-f700-472ee9354ecc"
   },
   "outputs": [
    {
     "name": "stdout",
     "output_type": "stream",
     "text": [
      "lemma download started this may take some time.\n",
      "Approximate size to download 36 KB\n",
      "[OK!]\n"
     ]
    }
   ],
   "source": [
    "document_assembler = DocumentAssembler() \\\n",
    "    .setInputCol(\"text\") \\\n",
    "    .setOutputCol(\"document\")\n",
    "\n",
    "tokenizer = Tokenizer()\\\n",
    "        .setInputCols(\"document\")\\\n",
    "        .setOutputCol(\"token\")\n",
    "\n",
    "lemmatizer = LemmatizerModel.pretrained(\"lemma\", \"am\") \\\n",
    "        .setInputCols([\"token\"]) \\\n",
    "        .setOutputCol(\"lemma\")\n",
    "\n",
    "nlp_pipeline = Pipeline(stages=[document_assembler, tokenizer, lemmatizer])\n",
    "light_pipeline = LightPipeline(nlp_pipeline.fit(spark.createDataFrame([[\"\"]]).toDF(\"text\")))\n",
    "results = light_pipeline.fullAnnotate([\"መጽሐፉን መጽሐፍ ኡ ን አስያዛት አስያዝ ኧ ኣት መጽሐፍ ።\"])"
   ]
  },
  {
   "cell_type": "code",
   "execution_count": null,
   "metadata": {
    "colab": {
     "base_uri": "https://localhost:8080/"
    },
    "id": "awTqHKvaH3SN",
    "outputId": "b5a7708a-82dc-4554-9b0b-6c37d105cb40"
   },
   "outputs": [
    {
     "data": {
      "text/plain": [
       "[Annotation(document, 0, 36, መጽሐፉን መጽሐፍ ኡ ን አስያዛት አስያዝ ኧ ኣት መጽሐፍ ።, {})]"
      ]
     },
     "execution_count": 53,
     "metadata": {
      "tags": []
     },
     "output_type": "execute_result"
    }
   ],
   "source": [
    "results[0]['document']"
   ]
  },
  {
   "cell_type": "code",
   "execution_count": null,
   "metadata": {
    "colab": {
     "base_uri": "https://localhost:8080/",
     "height": 35
    },
    "id": "mDXXO9FQCf1G",
    "outputId": "edecd6b5-2f7e-4f22-be9b-09aa0098cedb"
   },
   "outputs": [
    {
     "data": {
      "application/vnd.google.colaboratory.intrinsic+json": {
       "type": "string"
      },
      "text/plain": [
       "'መጽሐፉን መጽሐፍ ኡ ን አስያዛት አስያዝ ኧ ኣት መጽሐፍ ።'"
      ]
     },
     "execution_count": 54,
     "metadata": {
      "tags": []
     },
     "output_type": "execute_result"
    }
   ],
   "source": [
    "#extracting the result from the metadata\n",
    "results[0]['document'][0].result"
   ]
  },
  {
   "cell_type": "code",
   "execution_count": null,
   "metadata": {
    "colab": {
     "base_uri": "https://localhost:8080/"
    },
    "id": "WiDL05DvCaV8",
    "outputId": "e891155c-9f34-4188-9484-0f4f1bb6aed0"
   },
   "outputs": [
    {
     "data": {
      "text/plain": [
       "[Annotation(token, 0, 4, መጽሐፉን, {'sentence': '0'}),\n",
       " Annotation(token, 6, 9, መጽሐፍ, {'sentence': '0'}),\n",
       " Annotation(token, 11, 11, ኡ, {'sentence': '0'}),\n",
       " Annotation(token, 13, 13, ን, {'sentence': '0'}),\n",
       " Annotation(token, 15, 19, አስያዛት, {'sentence': '0'}),\n",
       " Annotation(token, 21, 24, አስያዝ, {'sentence': '0'}),\n",
       " Annotation(token, 26, 26, ኧ, {'sentence': '0'}),\n",
       " Annotation(token, 28, 29, ኣት, {'sentence': '0'}),\n",
       " Annotation(token, 31, 34, መጽሐፍ, {'sentence': '0'}),\n",
       " Annotation(token, 36, 36, ።, {'sentence': '0'})]"
      ]
     },
     "execution_count": 45,
     "metadata": {
      "tags": []
     },
     "output_type": "execute_result"
    }
   ],
   "source": [
    "results[0]['token']"
   ]
  },
  {
   "cell_type": "code",
   "execution_count": null,
   "metadata": {
    "colab": {
     "base_uri": "https://localhost:8080/"
    },
    "id": "gqb0yGloBzXj",
    "outputId": "e5625360-1cf8-4ab0-fb5c-044bde6b613e"
   },
   "outputs": [
    {
     "data": {
      "text/plain": [
       "[Annotation(token, 0, 4, _, {'sentence': '0'}),\n",
       " Annotation(token, 6, 9, መጽሐፍ, {'sentence': '0'}),\n",
       " Annotation(token, 11, 11, ኡ, {'sentence': '0'}),\n",
       " Annotation(token, 13, 13, ን, {'sentence': '0'}),\n",
       " Annotation(token, 15, 19, _, {'sentence': '0'}),\n",
       " Annotation(token, 21, 24, አስያዝ, {'sentence': '0'}),\n",
       " Annotation(token, 26, 26, ኧ, {'sentence': '0'}),\n",
       " Annotation(token, 28, 29, ኣት, {'sentence': '0'}),\n",
       " Annotation(token, 31, 34, መጽሐፍ, {'sentence': '0'}),\n",
       " Annotation(token, 36, 36, ።, {'sentence': '0'})]"
      ]
     },
     "execution_count": 46,
     "metadata": {
      "tags": []
     },
     "output_type": "execute_result"
    }
   ],
   "source": [
    "results[0]['lemma']"
   ]
  },
  {
   "cell_type": "markdown",
   "metadata": {
    "id": "F_5LkJiIuFMj"
   },
   "source": [
    "# Create wordcloud"
   ]
  },
  {
   "cell_type": "code",
   "execution_count": null,
   "metadata": {
    "id": "k_WHAsZxGV8j"
   },
   "outputs": [],
   "source": [
    "!pip3 install langdetect"
   ]
  },
  {
   "cell_type": "code",
   "execution_count": null,
   "metadata": {
    "id": "2V-rMbwzGHrf"
   },
   "outputs": [],
   "source": [
    "# Import Libraries\n",
    "from textblob import TextBlob\n",
    "import sys\n",
    "import tweepy\n",
    "import matplotlib.pyplot as plt\n",
    "import pandas as pd\n",
    "import numpy as np\n",
    "import os\n",
    "import nltk\n",
    "# import pycountry\n",
    "import re\n",
    "import string\n",
    "from wordcloud import WordCloud, STOPWORDS\n",
    "from PIL import Image\n",
    "from nltk.sentiment.vader import SentimentIntensityAnalyzer\n",
    "from langdetect import detect\n",
    "from nltk.stem import SnowballStemmer\n",
    "from nltk.sentiment.vader import SentimentIntensityAnalyzer\n",
    "from sklearn.feature_extraction.text import CountVectorizer"
   ]
  },
  {
   "cell_type": "code",
   "execution_count": null,
   "metadata": {
    "id": "6WB6W4LdF-yO"
   },
   "outputs": [],
   "source": [
    "def create_wordcloud(text):\n",
    "#  mask = np.array(Image.open(\"cloud.png\"))\n",
    " stopwords = set(STOPWORDS)\n",
    " wc = WordCloud(background_color=\"white\",\n",
    "#  mask = mask,\n",
    " max_words=3000,\n",
    " stopwords=stopwords,\n",
    " repeat=True)\n",
    " wc.generate(str(text))\n",
    " wc.to_file(\"wc.png\")\n",
    " print(\"Word Cloud Saved Successfully\")\n",
    " path=\"wc.png\"\n",
    " display(Image.open(path))\n",
    "\n"
   ]
  },
  {
   "cell_type": "code",
   "execution_count": null,
   "metadata": {
    "colab": {
     "base_uri": "https://localhost:8080/",
     "height": 235
    },
    "id": "B79bPgKDGCH8",
    "outputId": "cabb9315-061c-4a05-83a6-528a2a110bd9"
   },
   "outputs": [
    {
     "name": "stdout",
     "output_type": "stream",
     "text": [
      "Word Cloud Saved Successfully\n"
     ]
    },
    {
     "data": {
      "image/png": "[encoded data removed]",
      "text/plain": [
       "<PIL.PngImagePlugin.PngImageFile image mode=RGB size=400x200 at 0x7FE5D446F990>"
      ]
     },
     "metadata": {
      "tags": []
     },
     "output_type": "display_data"
    }
   ],
   "source": [
    "#Creating wordcloud for all tweets\n",
    "create_wordcloud(df_test[\"tweet\"].values)"
   ]
  },
  {
   "cell_type": "markdown",
   "metadata": {
    "id": "-sEhGf5VIVom"
   },
   "source": [
    "text vectorization on amharic dataset"
   ]
  },
  {
   "cell_type": "code",
   "execution_count": null,
   "metadata": {
    "id": "ycf9wez5i6qD"
   },
   "outputs": [],
   "source": [
    "def run_classifier(files: Tuple[str, str, str],\n",
    "                   method: str,\n",
    "                   method_class: Base,\n",
    "                   model_file: str,\n",
    "                   lower_case: bool) -> None:\n",
    "    \"Inherit classes from classifiers.py and apply the predict/accuracy methods\"\n",
    "    train, dev, test = files  # Unpack train, dev and test filenames\n",
    "    result = method_class.predict(train, test, lower_case)\n",
    "    method_class.accuracy(result)\n",
    "    # Plot confusion matrix\n",
    "    make_dirs(\"Plots\")\n",
    "    fig, ax = plot_confusion_matrix(result['truth'], result['pred'], normalize=True)\n",
    "    ax.set_title(\"Normalized Confusion Matrix: {}\".format(method.title()))\n",
    "    fig.tight_layout()\n",
    "    fig.savefig(\"Plots/{}.png\".format(method))"
   ]
  }
 ],
 "metadata": {
  "accelerator": "GPU",
  "colab": {
   "authorship_tag": "ABX9TyPoo7UO8r0mpucuwuutN6r/",
   "include_colab_link": true,
   "name": "tweet_preprocess_models.ipynb",
   "provenance": [],
   "toc_visible": true
  },
  "kernelspec": {
   "display_name": "Python 3",
   "language": "python",
   "name": "python3"
  },
  "language_info": {
   "codemirror_mode": {
    "name": "ipython",
    "version": 3
   },
   "file_extension": ".py",
   "mimetype": "text/x-python",
   "name": "python",
   "nbconvert_exporter": "python",
   "pygments_lexer": "ipython3",
   "version": "3.7.10"
  }
 },
 "nbformat": 4,
 "nbformat_minor": 1
}
